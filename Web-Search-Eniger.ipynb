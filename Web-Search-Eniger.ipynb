{
 "cells": [
  {
   "cell_type": "markdown",
   "metadata": {},
   "source": [
    "# Web Search Eniger"
   ]
  },
  {
   "cell_type": "markdown",
   "metadata": {},
   "source": [
    "# get a webpage"
   ]
  },
  {
   "cell_type": "code",
   "execution_count": 9,
   "metadata": {},
   "outputs": [
    {
     "data": {
      "text/plain": [
       "<addinfourl at 97736776L whose fp = <socket._fileobject object at 0x0000000005CB7A98>>"
      ]
     },
     "execution_count": 9,
     "metadata": {},
     "output_type": "execute_result"
    }
   ],
   "source": [
    "import urllib2\n",
    "import urllib\n",
    "# webpage = urllib2.urlopen('http://www.udacity.com')\n",
    "webpage.readline"
   ]
  },
  {
   "cell_type": "code",
   "execution_count": 13,
   "metadata": {
    "collapsed": true
   },
   "outputs": [],
   "source": [
    "import requests"
   ]
  },
  {
   "cell_type": "code",
   "execution_count": 28,
   "metadata": {},
   "outputs": [
    {
     "data": {
      "text/plain": [
       "u'<!DOCTYPE html>\\n<html>\\n  <head>\\n    <!-- Add title to catalog subpages. Otherwise the page English name will be used. -->\\n    \\n    \\n<title>\\u6570\\u636e\\u5206\\u6790\\u5e08</title>\\n\\n<meta name=\"description\" content=\"\\u5b66\\u4e60\\u5982\\u4f55\\u6e05\\u6d17\\u6742\\u4e71\\u6570\\u636e\\uff0c\\u53d1\\u73b0\\u6570\\u636e\\u4e2d\\u7684\\u6a21\\u5f0f\\u89c4\\u5f8b\\uff0c\\u901a\\u8fc7\\u673a\\u5668\\u5b66\\u4e60\\u8fdb\\u884c\\u9884\\u6d4b\\uff0c\\u5e76\\u6e05\\u6670\\u5730\\u4f20\\u8fbe\\u4f60\\u7684\\u53d1\\u73b0\\u3002\">\\n\\n<meta name=\"keywords\" content=\"\\u4f18\\u8fbe\\u5b66\\u57ce,Udacity,\\u524d\\u7aef\\u5f00\\u53d1,\\u7f51\\u9875\\u8bbe\\u8ba1,JavaScript \\u8bfe\\u7a0b,\\u7b97\\u6cd5\\u5927\\u8d5b,\\u673a\\u5668\\u5b66\\u4e60,\\u6570\\u636e\\u5206\\u6790,\\u4eba\\u5de5\\u667a\\u80fd,\\u5927\\u6570\\u636e,\\u6570\\u636e\\u79d1\\u5b66,\\u6df1\\u5ea6\\u5b66\\u4e60\">\\n\\n<meta name=\"robots\" content=\"noodp\"/>\\n\\n<!-- Devices -->\\n<meta charset=\"utf-8\">\\n<meta http-equiv=\"X-UA-Compatible\" content=\"IE=edge\">\\n<meta name=\"viewport\" content=\"width=device-width, initial-scale=1\">\\n\\n<script type=\"text/javascript\" src=\"/assets/javascripts/vendor/newrelic.js\"></script>\\n\\n<script type=\"text/javascript\">\\n  !function(){var analytics=window.analytics=window.analytics||[];if(!analytics.initialize)if(analytics.invoked)window.console&&console.error&&console.error(\"Segment snippet included twice.\");else{analytics.invoked=!0;analytics.methods=[\"trackSubmit\",\"trackClick\",\"trackLink\",\"trackForm\",\"pageview\",\"identify\",\"reset\",\"group\",\"track\",\"ready\",\"alias\",\"page\",\"once\",\"off\",\"on\"];analytics.factory=function(t){return function(){var e=Array.prototype.slice.call(arguments);e.unshift(t);analytics.push(e);return analytics}};for(var t=0;t<analytics.methods.length;t++){var e=analytics.methods[t];analytics[e]=analytics.factory(e)}analytics.load=function(t){var e=document.createElement(\"script\");e.type=\"text/javascript\";e.async=!0;e.src=(\"https:\"===document.location.protocol?\"https://\":\"http://\")+\"cdn.segment.com/analytics.js/v1/\"+t+\"/analytics.min.js\";var n=document.getElementsByTagName(\"script\")[0];n.parentNode.insertBefore(e,n)};analytics.SNIPPET_VERSION=\"3.1.0\";\\n  analytics.load(\"jhjysvr76FTB334UrupECEZ3ufkUyoOj\");\\n  analytics.page({hash: location.hash});\\n  }}();\\n</script>\\n\\n<!-- Hotjar Tracking Code for cn.udacity.com -->\\n<script>\\n    (function(h,o,t,j,a,r){\\n        h.hj=h.hj||function(){(h.hj.q=h.hj.q||[]).push(arguments)};\\n        h._hjSettings={hjid:393982,hjsv:5};\\n        a=o.getElementsByTagName(\\'head\\')[0];\\n        r=o.createElement(\\'script\\');r.async=1;\\n        r.src=t+h._hjSettings.hjid+j+h._hjSettings.hjsv;\\n        a.appendChild(r);\\n    })(window,document,\\'//static.hotjar.com/c/hotjar-\\',\\'.js?sv=\\');\\n</script>\\n\\n\\n    \\n      <link rel=\"stylesheet\" href=\"/assets/stylesheets/application.css?d41d8cd98f00b204e9800998ecf8427e\" type=\"text/css\">\\n    \\n    \\n      \\n      <link rel=\"stylesheet\" href=\"/assets/stylesheets/pages/fend.css?d41d8cd98f00b204e9800998ecf8427e\" type=\"text/css\">\\n      \\n    \\n  </head>\\n  \\n  <body class=\"page-ndhub nd002\">\\n    <div class=\"contain_all\">\\n      <header class=\"global\">\\n\\n\\n  <div id=\"top_banner\" class=\"top_banner\" data-segment-track=\"Featured Moustache\">\\n    <p>\\n      <!-- SEE NOTE AT BOTTOM ABOUT REMOVING JS RELATED TO THIS BANNER -->\\n      <span class=\"featured\" style=\"text-transform:none;\"></span>\\n      <span class=\"featured\"><a href=\"https://classroom.udacity.com/settings/subscriptions\" target=\"_blank\"></a></span>\\n    </p>\\n    <a style=\"top: 1.2em;\" href=\"#\" class=\"close_banner\">\\n      <img src=\"/assets/images/svgs/icon_close_white.svg\" alt=\"Close Banner\">\\n    </a>\\n  </div>\\n\\n\\n  <div class=\"contain clear header\" style=\"margin-bottom: 0px;\">\\n    <a href=\"/\" class=\"logo\" data-segment-track=\"Navbar Logo Clicked\">\\n        \\n        <img src=\"//cn.udacity.com/assets/images/svgs/logo_wordmark.svg\" title=\"\\u4f18\\u8fbe\\u5b66\\u57ce\\uff08Udacity\\uff09\" alt=\"\\u4f18\\u8fbe\\u5b66\\u57ce\\u5b98\\u7f51Logo\\u56fe\\u7247\">\\n        <img src=\"//cn.udacity.com/assets/images/svgs/logo_wordmark_white2.svg\" style=\"display:none;\" title=\"\\u4f18\\u8fbe\\u5b66\\u57ce\\uff08Udacity\\uff09\" alt=\"\\u4f18\\u8fbe\\u5b66\\u57ce\\u5b98\\u7f51Logo\\u56fe\\u7247\">\\n    </a>\\n    <div class=\"header-menu-wrapper\">\\n      <a id=\"link-signup\" data-show-guest href=\"/signup/\" class=\"callout_btn displayNone\">\\u6ce8\\u518c</a>\\n      <a id=\"link-signin\" data-show-guest href=\"/signin/\" class=\"callout_btn secondary displayNone\">\\u767b\\u5f55</a>\\n    </div>\\n    <nav data-show-student class=\"main displayNone\">\\n      <ul class=\"main_nav\">\\n        <li class=\"home_link\"><a href=\"/\">\\u9996\\u9875</a></li>\\n        <li class=\"nanodegree_link\"><a href=\"/nanodegree\">\\u7eb3\\u7c73\\u5b66\\u4f4d</a></li>\\n        <li class=\"free_courses_link\"><a href=\"/courses/all\">\\u6240\\u6709\\u8bfe\\u7a0b</a></li>\\n        <li class=\"cn_forum_link\"><a href=\"https://discussions.youdaxue.com/\">\\u4f18\\u8fbe\\u8bba\\u575b</a></li>\\n        <li class=\"timer-show-el\">\\n          <a href=\"/referral\">\\u9080\\u8bf7\\u7ea2\\u5305</a>\\n        </li>\\n        <a href=\"https://classroom.udacity.com/me\" class=\"callout_btn\">\\u6211\\u7684\\u6559\\u5ba4</a>\\n      </ul>\\n      <a href=\"#\" class=\"nav_toggle\">\\n        <span class=\"bar bar_top\"></span>\\n        <span class=\"bar bar_mid\"></span>\\n        <span class=\"bar bar_bottom\"></span>\\n      </a>\\n    </nav>\\n  </div>\\n</header>\\n\\n\\n<section class=\"container fend-container nd002\">\\n  <div class=\"content\">\\n    <header>\\n      <h1> \\u6570\\u636e\\u5206\\u6790\\u5e08 </h1>\\n      <!-- Display a list of partners -->\\n<div class=\"affiliates\">\\n  <h5>\\u7531\\u4ee5\\u4e0b\\u4f01\\u4e1a\\u8054\\u5408\\u5236\\u4f5c\\uff1a</h5>\\n  <ul>\\n    \\n    \\n      \\n      <li>\\n        <div><img src=\"https://s3.cn-north-1.amazonaws.com.cn/static-assets/logo-color-facebook.svg\" alt=\"Facebook\"></div>\\n      </li>\\n    \\n      \\n      <li>\\n        <div><img src=\"https://s3.cn-north-1.amazonaws.com.cn/static-assets/logo-color-mongodb.svg\" alt=\"MongoDB\"></div>\\n      </li>\\n    \\n      \\n      <li>\\n        <div><img src=\"https://s3.cn-north-1.amazonaws.com.cn/static-assets/logo-color-tableau.svg\" alt=\"Tableau\"></div>\\n      </li>\\n    \\n  </ul>\\n</div>\\n\\n    </header>\\n    <div class=\"body\">\\n\\n      <!--\\n      \\n      -->\\n\\n      <div class=\"columns margin-left-0 fend-cards\">\\n        \\n        \\n        <div class=\"column col-6 margin-left-0  fend-card\">\\n          <a\\n            href=\"/course/data-analyst-nanodegree--nd002-cn-basic/\"\\n            data-segment-track=\"CTA Clicked\"\\n            data-segment-properties=\\'{\"cta_key\" : \"Landing_page_card\", \"degree_key\" : \"nd002-cn-basic\" }\\'>\\n            <div class=\"m-card\">\\n              <div class=\"header\">\\n                <div class=\"tags\">\\n                  \\n                  <span class=\"m-pill white\">\\u65b0</span>\\n                  \\n                  \\n                </div>\\n                <div class=\"background\" style=\"background-image: url(//s3.cn-north-1.amazonaws.com.cn/static-assets/DAND-basic.jpg)\"></div>\\n              </div>\\n              <div class=\"body\">\\n                <h6>\\u57fa\\u77f3\\u7eb3\\u7c73\\u5b66\\u4f4d</h6>\\n                <h2>\\u6570\\u636e\\u5206\\u6790\\uff08\\u5165\\u95e8\\uff09</h2>\\n                <p>\\u4ece\\u96f6\\u5f00\\u59cb\\u638c\\u63e1\\u7845\\u8c37\\u6570\\u636e\\u5206\\u6790\\u5de5\\u4f5c\\u6d41\\u7a0b<br>\\u53ea\\u9700 Python \\u57fa\\u7840\\u5373\\u53ef\\u52a0\\u5165</p>\\n              </div>\\n            </div>\\n          </a>\\n        </div>\\n        \\n        \\n        <div class=\"column col-6 fend-card\">\\n          <a\\n            href=\"/course/data-analyst-nanodegree--nd002-cn-advanced/\"\\n            data-segment-track=\"CTA Clicked\"\\n            data-segment-properties=\\'{\"cta_key\" : \"Landing_page_card\", \"degree_key\" : \"nd002-cn-advanced\" }\\'>\\n            <div class=\"m-card\">\\n              <div class=\"header\">\\n                <div class=\"tags\">\\n                  \\n                  <span class=\"m-pill white\">\\u65b0</span>\\n                  \\n                  \\n                </div>\\n                <div class=\"background\" style=\"background-image: url(//s3.cn-north-1.amazonaws.com.cn/static-assets/DAND-advanced.jpg)\"></div>\\n              </div>\\n              <div class=\"body\">\\n                <h6>\\u7eb3\\u7c73\\u5b66\\u4f4d</h6>\\n                <h2>\\u6570\\u636e\\u5206\\u6790\\uff08\\u8fdb\\u9636\\uff09</h2>\\n                <p>\\u6df1\\u5165\\u5b66\\u4e60\\u6570\\u636e\\u6e05\\u6d17\\u3001\\u63a2\\u7d22\\u6027\\u5206\\u6790\\u548c\\u53ef\\u89c6\\u5316<br>\\u6210\\u4e3a\\u88ab Facebook \\u8ba4\\u53ef\\u7684\\u9876\\u5c16\\u6570\\u636e\\u5206\\u6790\\u5e08</p>\\n              </div>\\n            </div>\\n          </a>\\n        </div>\\n        \\n      </div>\\n    </div>\\n  </div>\\n</section>\\n\\n      \\n        <footer>\\n  <div class=\"contain\">\\n    <a href=\"/\" class=\"footer_logo\">\\n      <img src=\"/assets/images/logo/logomark.min.svg\" alt=\"Udacity\">\\n    </a>\\n    <nav class=\"foot\">\\n      <ul class=\"footer_nav\">\\n        <li class=\"footer_nav_toggle\">\\n          <h3>\\u70ed\\u95e8\\u7eb3\\u7c73\\u5b66\\u4f4d\\u9879\\u76ee</h3>\\n          <ul class=\"nav_list\">\\n            <li>\\n              <a href=\"/mlnd/\">\\u673a\\u5668\\u5b66\\u4e60\\u5de5\\u7a0b\\u5e08</a>\\n            </li>\\n            <li>\\n              <a href=\"/fend/\">\\u524d\\u7aef\\u5f00\\u53d1\\u5de5\\u7a0b\\u5e08</a>\\n            </li>\\n            <li>\\n              <a href=\"/dand/\">\\u6570\\u636e\\u5206\\u6790\\u5e08</a>\\n            </li>\\n            <li>\\n              <a href=\"/course/intro-to-programming-nanodegree--nd000-cn-basic/\">\\u7f16\\u7a0b\\u5165\\u95e8</a>\\n            </li>\\n            <li>\\n              <a href=\"/course/deep-learning-nanodegree-foundation--nd101/\">\\u6df1\\u5ea6\\u5b66\\u4e60</a>\\n            </li>\\n            <li>\\n              <a href=\"/android/\">Android \\u5f00\\u53d1\\u5de5\\u7a0b\\u5e08</a>\\n            </li>\\n          </ul>\\n        </li>\\n        <li class=\"footer_nav_toggle\">\\n          <h3>\\u5b66\\u4e60\\u8005\\u8d44\\u6e90\\u5e93</h3>\\n          <ul class=\"nav_list\">\\n            <!--\\n            <li>\\n              <a href=\"http://blog.udacity.com\">\\u5b98\\u65b9\\u535a\\u5ba2</a>\\n            </li>\\n            -->\\n            <li>\\n              <a href=\"http://support.youdaxue.com/\">\\u5e2e\\u52a9\\u548c\\u5e38\\u89c1\\u95ee\\u9898</a>\\n            </li>\\n            <li>\\n              <a href=\"/courses/all/\">\\u6240\\u6709\\u8bfe\\u7a0b</a>\\n            </li>\\n            <li>\\n              <a href=\"https://discussions.youdaxue.com/\">\\u4f18\\u8fbe\\u8bba\\u575b</a>\\n            </li>\\n            <li>\\n              <a href=\"/mobile/\">\\u624b\\u673a\\u5ba2\\u6237\\u7aef</a>\\n            </li>\\n            <!--\\n            <li>\\n              <a href=\"https://play.google.com/store/apps/details?id=com.udacity.android\">Android App</a>\\n            </li>\\n            <li>\\n              <a href=\"https://itunes.apple.com/us/app/id819700933?mt=8\">iOS App</a>\\n            </li>\\n            -->\\n          </ul>\\n        </li>\\n        <li class=\"footer_nav_toggle\">\\n          <h3>\\u4f18\\u8fbe\\u5b66\\u57ce (Udacity)</h3>\\n          <ul class=\"nav_list\">\\n            <li>\\n              <a href=\"/us/\">\\u5173\\u4e8e\\u6211\\u4eec</a>\\n            </li>\\n            <!--\\n            <li>\\n              <a href=\"https://www.udacity.com/press\">\\u5a92\\u4f53\\u62a5\\u9053</a>\\n            </li>\\n            -->\\n            <li>\\n              <a href=\"/jobs/\">\\u52a0\\u5165\\u6211\\u4eec</a>\\n            </li>\\n            <!--\\n            <li>\\n              <a href=\"https://www.udacity.com/georgia-tech\">\\u4f50\\u6cbb\\u4e9a\\u7406\\u5de5\\u5927\\u5b66\\u5408\\u4f5c\\u9879\\u76ee</a>\\n            </li>\\n            -->\\n            <li>\\n              <a href=\"/business/\">\\u4f01\\u4e1a\\u5408\\u4f5c</a>\\n            </li>\\n            <li>\\n              <a href=\"/hire-talent/\">\\u96c7\\u4f63\\u4f18\\u79c0\\u5b66\\u5458</a>\\n            </li>\\n            <li>\\n              <a href=\"/success/\">\\u5b66\\u5458\\u6210\\u529f\\u6545\\u4e8b</a>\\n            </li>\\n          </ul>\\n        </li>\\n        <li class=\"footer_nav_toggle\">\\n          <h3>\\u5176\\u5b83</h3>\\n          <ul class=\"nav_list\">\\n            <li>\\n              <a href=\"/contact/\">\\u8054\\u7cfb\\u6211\\u4eec</a>\\n            </li>\\n            <!--\\n            <li>\\n              <a href=\"https://www.udacity.com/catalog-api\">\\u5f00\\u53d1\\u8005API</a>\\n            </li>\\n            -->\\n            <li>\\n              <a href=\"/legal/\">\\u6cd5\\u5f8b\\u6761\\u6b3e</a>\\n            </li>\\n            <li>\\n              <a href=\"/tech-requirements/\">\\u6280\\u672f\\u8981\\u6c42</a>\\n            </li>\\n            <!--\\n            <li>\\n              <a href=\"http://status.udacity.com\">\\u670d\\u52a1\\u72b6\\u6001</a>\\n            </li>\\n            -->\\n          </ul>\\n        </li>\\n      </ul>\\n    </nav>\\n    <section class=\"footer_secondary\">\\n      <div class=\"utility\">\\n        <span class=\"copyright\" style=\"line-height: 1.5\">\\u201c\\u7eb3\\u7c73\\u5b66\\u4f4d\\u201d\\u662f\\u4f18\\u8fbe\\u5b66\\u57ce (Udacity) \\u7684\\u6ce8\\u518c\\u5546\\u6807<br />\\u52c7\\u5927\\u7f51\\u7edc\\uff08\\u5317\\u4eac\\uff09\\u6709\\u9650\\u516c\\u53f8 \\u4eacICP\\u8bc1160887\\u53f7<br />\\u5317\\u4eac\\u5e02\\u6d77\\u6dc0\\u533a\\u77e5\\u6625\\u8def113\\u53f7\\u94f6\\u7f51\\u4e2d\\u5fc3A\\u5ea77\\u5c420706<br />\\xa9 2015&ndash;2017</span>\\n      </div>\\n      <nav class=\"social\">\\n        <ul class=\"social_links\">\\n          <li>\\n            <a href=\"/mobile\" data-analytics-name=\"Generic CTA Clicked\" data-analytics-category=\"Generic CTA\" data-analytics-label=\"Generic CTA - Android\" data-analytics-payload=\"{ &quot;cta_type&quot;: &quot;button&quot;, &quot;cta_location&quot;: &quot;Mobile&quot; }\" data-analytics-type=\"CTA\">\\n              <img style=\"height: 28px; width: 28px;\" src=\"https://s3.cn-north-1.amazonaws.com.cn/static-assets/icon-android-888.svg\" alt=\"Android icon\">\\n            </a>\\n          </li>\\n          <li>\\n            <a rel=\"nofollow\" style=\"cursor: pointer;\" onclick=\"$(\\'[data-remodal-id=wechatQR]\\').remodal().open();\" data-segment-track=\"Social: WeChat Click\">\\n              <img height=30 width=30 src=\"/assets/images/icons/weixin.png\" alt=\"\\u5fae\\u4fe1\">\\n            </a>\\n          </li>\\n          <li>\\n            <a rel=\"nofollow\" href=\"http://www.weibo.com/5862682953/\" data-segment-track=\"Social: Weibo Click\">\\n              <img height=26 width=30 src=\"/assets/images/icons/weibo-2x.png\" alt=\"\\u5fae\\u535a\">\\n            </a>\\n          </li>\\n          <li>\\n            <a rel=\"nofollow\" href=\"https://www.linkedin.com/company/udacity\" data-segment-track=\"Social: LinkedIn Click\">\\n              <img src=\"/assets/images/svgs/social_linkedin.svg\" alt=\"LinkedIn\">\\n            </a>\\n          </li>\\n        </ul>\\n      </nav>\\n    </section>\\n    <div style=\"width:300px;padding-top:60px;\">\\n      <a target=\"_blank\" href=\"http://www.beian.gov.cn/portal/registerSystemInfo?recordcode=11010802023648\" style=\"display:inline-block;text-decoration:none;height:20px;line-height:20px;\"><img src=\"/assets/images/icons/icp.png\" style=\"float:left;\"/><span style=\"color: #557188; margin-left: 10px;\">\\u4eac\\u516c\\u7f51\\u5b89\\u5907 11010802023648\\u53f7</span></a>\\n    </div>\\n  </div>\\n</footer>\\n<div class=\"remodal notify-modal\" data-remodal-id=\"wechatQR\">\\n  <button data-remodal-action=\"close\" class=\"remodal-close\"></button>\\n  <img src=\"//ww4.sinaimg.cn/large/612d1341jw1f2uxoor0o3j2043044mxe.jpg\" alt=\"\\u5b98\\u65b9\\u5fae\\u4fe1\\u516c\\u4f17\\u53f7\\u4e8c\\u7ef4\\u7801\">\\n  <h2 class=\"text-center\">\\u4f18\\u8fbe\\u5b66\\u57ce\\uff08Udacity\\uff09\\u5fae\\u4fe1</h2>\\n</div>\\n\\n      \\n    </div>\\n    \\n      \\n        <script src=\"/assets/javascripts/intercom.js?d41d8cd98f00b204e9800998ecf8427e\" type=\"text/javascript\"></script>\\n      \\n        <script src=\"/assets/javascripts/application.js?d41d8cd98f00b204e9800998ecf8427e\" type=\"text/javascript\"></script>\\n      \\n    \\n\\n    <script>\\n(function() {\\n  var bp = document.createElement(\\'script\\');\\n  bp.src = \\'//push.zhanzhang.baidu.com/push.js\\';\\n  var s = document.getElementsByTagName(\"script\")[0];\\n  s.parentNode.insertBefore(bp, s);\\n})();\\n</script>\\n\\n\\n    <!-- include baidu cpro code. -->\\n    <script type=\"text/javascript\">\\n(function (d) {\\n(window.bd_cpro_rtid = window.bd_cpro_rtid || []).push({id:\"nWczn1bd\"});\\nvar s = d.createElement(\"script\");s.type = \"text/javascript\";s.async = true;s.src = location.protocol + \"//cpro.baidu.com/cpro/ui/rt.js\";\\nvar s0 = d.getElementsByTagName(\"script\")[0];s0.parentNode.insertBefore(s, s0);\\n})(document);\\n</script>\\n\\n  </body>\\n</html>\\n'"
      ]
     },
     "execution_count": 28,
     "metadata": {},
     "output_type": "execute_result"
    }
   ],
   "source": [
    "url = 'https://cn.udacity.com/dand/'\n",
    "response = requests.get(url)\n",
    "webpage = response.text\n",
    "webpage"
   ]
  },
  {
   "cell_type": "code",
   "execution_count": null,
   "metadata": {
    "collapsed": true
   },
   "outputs": [],
   "source": []
  },
  {
   "cell_type": "code",
   "execution_count": null,
   "metadata": {
    "collapsed": true
   },
   "outputs": [],
   "source": [
    "\n"
   ]
  },
  {
   "cell_type": "markdown",
   "metadata": {},
   "source": [
    "## 1. Bulid a Web Crawer"
   ]
  },
  {
   "cell_type": "code",
   "execution_count": 26,
   "metadata": {},
   "outputs": [
    {
     "name": "stdout",
     "output_type": "stream",
     "text": [
      "<type 'unicode'>\n"
     ]
    }
   ],
   "source": [
    "# get a web link and the end postion of this link\n",
    "# webpage = '123asbd <a href=\"www.baidu.com\"\\\n",
    "#             456<a href=\"www.google.com\"'\n",
    "print type(webpage)\n",
    "def get_next_target(page):\n",
    "    start_link = page.find('<a href=')\n",
    "    if start_link == -1:\n",
    "        return None, 0\n",
    "    else:\n",
    "        #find the postion of \" from the position of start_link\n",
    "        start_quote = page.find('\"',start_link)\n",
    "        end_quote = page.find('\"',start_quote+1)\n",
    "        url= page[start_quote+1:end_quote]\n",
    "        return url, end_quote\n"
   ]
  },
  {
   "cell_type": "code",
   "execution_count": 29,
   "metadata": {},
   "outputs": [
    {
     "data": {
      "text/plain": [
       "(u'https://classroom.udacity.com/settings/subscriptions', 2902)"
      ]
     },
     "execution_count": 29,
     "metadata": {},
     "output_type": "execute_result"
    }
   ],
   "source": [
    "get_next_target(webpage)"
   ]
  },
  {
   "cell_type": "code",
   "execution_count": 4,
   "metadata": {
    "collapsed": true
   },
   "outputs": [],
   "source": [
    "# print all the url in a page\n",
    "def print_all_url(page):\n",
    "    start_postion =0\n",
    "    \n",
    "    while True:\n",
    "        #update the page we want to search from the position\n",
    "        page = page[start_postion:]\n",
    "        url, end_postion = get_next_target(page)\n",
    "        start_postion = end_postion\n",
    "        if url != None:\n",
    "            print url\n",
    "        else:\n",
    "            break"
   ]
  },
  {
   "cell_type": "code",
   "execution_count": 5,
   "metadata": {},
   "outputs": [
    {
     "name": "stdout",
     "output_type": "stream",
     "text": [
      "www.baidu.com\n",
      "www.google.com\n"
     ]
    }
   ],
   "source": [
    "print_all_url(webpage)"
   ]
  }
 ],
 "metadata": {
  "kernelspec": {
   "display_name": "Python [conda root]",
   "language": "python",
   "name": "conda-root-py"
  },
  "language_info": {
   "codemirror_mode": {
    "name": "ipython",
    "version": 2
   },
   "file_extension": ".py",
   "mimetype": "text/x-python",
   "name": "python",
   "nbconvert_exporter": "python",
   "pygments_lexer": "ipython2",
   "version": "2.7.13"
  }
 },
 "nbformat": 4,
 "nbformat_minor": 2
}
