{
 "cells": [
  {
   "cell_type": "markdown",
   "metadata": {},
   "source": [
    "# virtual envirment for python project\n",
    "which can make you use the different version of python and different verison of packages"
   ]
  },
  {
   "cell_type": "code",
   "execution_count": null,
   "metadata": {
    "collapsed": true
   },
   "outputs": [],
   "source": [
    "#\n",
    "cmd\n",
    "\n",
    "#make sure you have installed the python\n",
    "python  (--version)\n",
    "\n",
    "#show the  glaobal site packages\n",
    "pip list\n",
    "\n",
    "#use the pip (the python install package tool) to install virtualenv\n",
    "pip install virtualenv\n",
    "\n",
    "#creat a dirctory where you want to set this virtual envriorment \n",
    "mkdir env_py27\n",
    "cd env_py27\n",
    "\n",
    "#construct a new enviroment for one project\n",
    "virtualenv project1_py27\n",
    "#it will install setuptool pip in this new project dirctory\n",
    "#but you need to activate this virtual enviorment\n",
    "#in Mac: source project1_py27/bin/activate\n",
    "#in Windows\n",
    "cd project1_py27/Scripts\n",
    "activate\n",
    "\n",
    "#we can test whether we are in the new virtual enviroment\n",
    "which python\n",
    "which pip\n",
    "pip list # now we can just see the packes in this new virtual envrioment\n",
    "\n",
    "#then you can install some package into this virtual enviroment with pip\n",
    "pip install requests\n",
    "\n",
    "#if we want to export all the verion num of the packages to anthon project,we can freeze just the local enviroment into a text file\n",
    "pip freeze --local > requirements.txt\n",
    "#show the version information\n",
    "cat requirements.tet\n",
    "\n",
    "#if you want to get out of the current enviroment\n",
    "deactivate\n",
    "\n",
    "#if you want to use a specific version of python3.4 in the dirctory of project2_py34\n",
    "virtualenv -p C:/Python34/python.exe  project2_py34\n",
    "\n"
   ]
  }
 ],
 "metadata": {
  "kernelspec": {
   "display_name": "Python [conda root]",
   "language": "python",
   "name": "conda-root-py"
  },
  "language_info": {
   "codemirror_mode": {
    "name": "ipython",
    "version": 2
   },
   "file_extension": ".py",
   "mimetype": "text/x-python",
   "name": "python",
   "nbconvert_exporter": "python",
   "pygments_lexer": "ipython2",
   "version": "2.7.13"
  }
 },
 "nbformat": 4,
 "nbformat_minor": 2
}
