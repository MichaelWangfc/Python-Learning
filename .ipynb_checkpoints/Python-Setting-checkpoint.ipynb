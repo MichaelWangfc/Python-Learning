{
 "cells": [
  {
   "cell_type": "markdown",
   "metadata": {},
   "source": [
    "Agenda\n",
    "\n",
    "- Anaconda install\n",
    "- Enviroment path setup\n",
    "- python package manager: pip\n",
    "- conda package manager: conda\n",
    "\n",
    "- The coding system(ascii/utf)\n",
    "\n",
    "- Command in terminal (cmd on Windows)\n",
    "- RISE"
   ]
  },
  {
   "cell_type": "markdown",
   "metadata": {},
   "source": [
    "## Anaconda install"
   ]
  },
  {
   "cell_type": "code",
   "execution_count": null,
   "metadata": {
    "collapsed": true
   },
   "outputs": [],
   "source": [
    "https://packaging.python.org/tutorials/installing-packages/#use-pip-for-installing"
   ]
  },
  {
   "cell_type": "markdown",
   "metadata": {},
   "source": [
    "#### 修改Jupyter Notebook默认工作路径的三种方式\n",
    "how to change start up file: D:/wangfc\n"
   ]
  },
  {
   "cell_type": "code",
   "execution_count": null,
   "metadata": {
    "collapsed": true
   },
   "outputs": [],
   "source": [
    "one way：\n",
    ">jupyter notebook --generate-config\n",
    " C:\\Users\\Administrator\\.jupyter\n",
    "\n",
    "找到此路径修改jupyter_notebook_config.py文件 \n",
    "\n",
    "## The directory to use for notebooks and kernels. \n",
    "#c.NotebookApp.notebook_dir = '' \n",
    "将其改为 \n",
    "## The directory to use for notebooks and kernels. \n",
    "c.NotebookApp.notebook_dir = u'E:\\Jupyter' \n",
    "其中E:\\Jupyter为我的工作空间，你可以改成你自己的，\n",
    "\n",
    "1.#c.NotebookApp.notebook_dir = ''中的#必须删除，且前面不能留空格。 \n",
    "2.E:\\Jupyter,Jupyter文件夹必须提前新建，如果没有新建，Jupyter Notebook会找不到这\n",
    "    \n",
    "使用 C:\\ProgramData\\Anaconda3\\Scripts jupyter-notebook.exe 作为快捷方式"
   ]
  },
  {
   "cell_type": "code",
   "execution_count": null,
   "metadata": {
    "collapsed": true
   },
   "outputs": [],
   "source": []
  },
  {
   "cell_type": "code",
   "execution_count": null,
   "metadata": {
    "collapsed": true
   },
   "outputs": [],
   "source": [
    "another way\n",
    "打开Anaconda安装目录下的etc文件\n",
    "如：C:\\Anaconda3\\etc\\jupyter我的安装目录在C:\\Anaconda3 \n",
    "\n",
    "再打开jupyter_notebook_config.json文件作如下修改即可\n",
    "\n",
    "增加一行 \"notebook_dir\":u\"D:\\wangfc\""
   ]
  },
  {
   "cell_type": "markdown",
   "metadata": {},
   "source": [
    "#### start a Jupyter Dashboard from a fold"
   ]
  },
  {
   "cell_type": "code",
   "execution_count": null,
   "metadata": {
    "collapsed": true
   },
   "outputs": [],
   "source": [
    ">cd d:/wangfc\n",
    ">jupyter notebook"
   ]
  },
  {
   "cell_type": "markdown",
   "metadata": {},
   "source": [
    "### pip problem\n",
    "Unknown or unsupported command 'install'"
   ]
  },
  {
   "cell_type": "markdown",
   "metadata": {
    "collapsed": true
   },
   "source": [
    "Do you happen to have the Perl pip lying around somewhere?\n",
    "\n",
    "Sounds like the problem described here:\n",
    "\n",
    "https://github.com/mike-perdide/gitbuster/issues/62\n",
    "\n",
    "To check, in Windows command prompt execute:\n",
    "\n",
    "C:\\>where pip\n",
    "This will potentially output the following:\n",
    "\n",
    "C:\\strawberry\\perl\\bin\\pip\n",
    "C:\\strawberry\\perl\\bin\\pip.bat\n",
    "If so, this is your problem. Unistall Strawberry Perl or use the full path to python pip\n",
    "\n",
    "or \n",
    "\n",
    "pip.exe install selenium "
   ]
  },
  {
   "cell_type": "markdown",
   "metadata": {},
   "source": [
    "# virtual envirment for python project\n",
    "which can make you use the different version of python and different verison of packages"
   ]
  },
  {
   "cell_type": "code",
   "execution_count": null,
   "metadata": {
    "collapsed": true
   },
   "outputs": [],
   "source": [
    "#\n",
    "cmd\n",
    "\n",
    "#make sure you have installed the python\n",
    "python  (--version)\n",
    "\n",
    "#show the  glaobal site packages\n",
    "pip list\n",
    "\n",
    "#use the pip (the python install package tool) to install virtualenv\n",
    "pip install virtualenv\n",
    "\n",
    "#creat a dirctory where you want to set this virtual envriorment \n",
    "mkdir env_py27\n",
    "cd env_py27\n",
    "\n",
    "#construct a new enviroment for one project\n",
    "virtualenv project1_py27\n",
    "#it will install setuptool pip in this new project dirctory\n",
    "#but you need to activate this virtual enviorment\n",
    "#in Mac: source project1_py27/bin/activate\n",
    "#in Windows\n",
    "cd project1_py27/Scripts\n",
    "activate\n",
    "\n",
    "#we can test whether we are in the new virtual enviroment\n",
    "which python\n",
    "which pip\n",
    "pip list # now we can just see the packes in this new virtual envrioment\n",
    "\n",
    "#then you can install some package into this virtual enviroment with pip\n",
    "pip install requests\n",
    "\n",
    "#if we want to export all the verion num of the packages to anthon project,we can freeze just the local enviroment into a text file\n",
    "pip freeze --local > requirements.txt\n",
    "#show the version information\n",
    "cat requirements.tet\n",
    "\n",
    "#if you want to get out of the current enviroment\n",
    "deactivate\n",
    "\n",
    "#if you want to use a specific version of python3.4 in the dirctory of project2_py34\n",
    "virtualenv -p C:/Python34/python.exe  project2_py34\n",
    "\n"
   ]
  },
  {
   "cell_type": "markdown",
   "metadata": {},
   "source": [
    "## Python Environment Management with Conda \n",
    "### (Python 2 + 3, Using Multiple Versions of Python)\n",
    "#### https://medium.com/towards-data-science/environment-management-with-conda-python-2-3-b9961a8a5097"
   ]
  },
  {
   "cell_type": "code",
   "execution_count": null,
   "metadata": {
    "collapsed": true
   },
   "outputs": [],
   "source": [
    "python --version\n",
    "\n",
    "# you can even add names of packages after python=3.6 like python=3.6 pandas\n",
    "conda create --name subscribe python=3.6\n",
    "\n",
    "# to get into your new environment\n",
    "source activate subscribe\n",
    "\n",
    "# Leave your environment\n",
    "source deactivate\n",
    "\n",
    "# Remove your environment\n",
    "conda env remove --name subscribe\n",
    "\n",
    "# List your environments\n",
    "conda env list"
   ]
  },
  {
   "cell_type": "code",
   "execution_count": null,
   "metadata": {
    "collapsed": true
   },
   "outputs": [],
   "source": [
    " make sure you have anaconda 4.1.0 or higher. Open a new terminal and check your conda version by typing\n",
    "\n",
    "checking conda version\n",
    "if you are below anaconda 4.1.0, type conda update conda\n",
    "2. Next we check to see if we have the library nb_conda_kernels by typing\n",
    "\n",
    "Checking if we have nb_conda_kernels\n",
    "3. If you don’t see nb_conda_kernels type\n",
    "\n",
    "Installing nb_conda_kernels\n",
    "4. If you are using Python 2 and want a separate Python 3 environment please type the following\n",
    "\n",
    "py36 is the name of the environment. You could literally name it anything you want.\n",
    "If you are using Python 3 and want a separate Python 2 environment, you could type the following.\n",
    "\n",
    "py27 is the name of the environment. It uses python 2.7.\n",
    "5. Close your terminal and open up a new terminal. type jupyter notebook\n",
    "6. Click new and you will see your virtual environment listed."
   ]
  },
  {
   "cell_type": "markdown",
   "metadata": {},
   "source": [
    "### the problem here is how to deal wtih the dependency"
   ]
  },
  {
   "cell_type": "markdown",
   "metadata": {},
   "source": [
    "## The coding system(ascii/utf)"
   ]
  },
  {
   "cell_type": "code",
   "execution_count": null,
   "metadata": {
    "collapsed": true
   },
   "outputs": [],
   "source": [
    "## 把 str 编码由 ascii 改为 utf8 (或 gb18030) \n",
    "### python 2.7\n",
    "import sys\n",
    "reload(sys)\n",
    "sys.setdefaultencoding('utf8')\n",
    "\n",
    "# in python 3.*\n",
    "default"
   ]
  },
  {
   "cell_type": "markdown",
   "metadata": {},
   "source": [
    "### pandas怎样处理中文？\n",
    "csv文件中有大量中文，怎样在pandas里面显示呢？现在看起来都是乱码。谢谢！\n",
    "中文输出乱码问题"
   ]
  },
  {
   "cell_type": "code",
   "execution_count": null,
   "metadata": {
    "collapsed": true
   },
   "outputs": [],
   "source": [
    "首先 python文件开始 添加 一行  #-*- coding=utf-8 -*-\n",
    "\n",
    "然后调用的时候 pd.read_csv(csvname,encoding=\"gb2312\")\n",
    "pd.read_csv(\"001.csv\",encoding=\"gbk\")\n",
    "\n",
    "然后看看你的python是保存为什么编码的， 推荐用notepad++打开，然后转化为utf-8 无BOM格式的。 这样无论在liunx还是window都能保证无乱码。\n",
    "最近遇到还有例外的情况，用encoding = ‘gb18030’  就能解决。\n"
   ]
  },
  {
   "cell_type": "markdown",
   "metadata": {},
   "source": [
    "## Command in terminal (cmd on Windows)"
   ]
  },
  {
   "cell_type": "code",
   "execution_count": 3,
   "metadata": {
    "collapsed": true
   },
   "outputs": [],
   "source": [
    "#### launch python console\n",
    ">python\n",
    "\n",
    "# #### run a .py file\n",
    ">python *.py"
   ]
  },
  {
   "cell_type": "code",
   "execution_count": null,
   "metadata": {
    "collapsed": true
   },
   "outputs": [],
   "source": [
    "#### launch Ipython（Jupyter）console\n",
    ">ipython\n",
    "\n",
    "#### open a Jupyter notebook \n",
    ">ipython notebook  *.ipynb"
   ]
  },
  {
   "cell_type": "markdown",
   "metadata": {},
   "source": [
    "## RISE\n",
    "\"Live\" Reveal.js Jupyter/IPython Slideshow Extension Edit Add topics\n"
   ]
  },
  {
   "cell_type": "code",
   "execution_count": null,
   "metadata": {
    "collapsed": true
   },
   "outputs": [],
   "source": [
    "Option 1 - Using conda (recommended):\n",
    "conda install -c damianavila82 rise\n",
    "\n",
    "\n",
    "\n",
    "Option 2 - Using pip (less recommended):\n",
    "\n",
    "pip install RISE\n",
    "and then two more steps to install the JS and CSS in the proper places:\n",
    "\n",
    "jupyter-nbextension install rise --py --sys-prefix\n",
    "and enable the nbextension:\n",
    "\n",
    "jupyter-nbextension enable rise --py --sys-prefix\n",
    "Option 3 - The old way (are sure sure you want to go this path?):\n",
    "\n",
    "To install this nbextension, simply run python setup.py install from the RISE repository (please use the latest tag available or try master if you want).\n",
    "\n",
    "And then the same two step described in the pip-based installation:\n",
    "\n",
    "jupyter-nbextension install rise --py --sys-prefix\n",
    "and\n",
    "\n",
    "jupyter-nbextension enable rise --py --sys-prefix\n",
    "Conclusion\n",
    "\n",
    "If you use conda, life will be easy ;-)\n",
    "\n",
    "NOTE: in all the options available the --sys-prefix option will install and enable the extension in the current environment, if you want a --user based or a --system based installation just use those options instead in the above commands."
   ]
  }
 ],
 "metadata": {
  "kernelspec": {
   "display_name": "Python [default]",
   "language": "python",
   "name": "python3"
  },
  "language_info": {
   "codemirror_mode": {
    "name": "ipython",
    "version": 3
   },
   "file_extension": ".py",
   "mimetype": "text/x-python",
   "name": "python",
   "nbconvert_exporter": "python",
   "pygments_lexer": "ipython3",
   "version": "3.6.0"
  }
 },
 "nbformat": 4,
 "nbformat_minor": 2
}
