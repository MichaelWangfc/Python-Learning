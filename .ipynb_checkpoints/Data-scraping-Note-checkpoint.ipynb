{
 "cells": [
  {
   "cell_type": "markdown",
   "metadata": {},
   "source": [
    "# Data scraping\n",
    "##### Data scraping can be directly web scraping or using API (application program interface),\n",
    "##### according to different type of data structure: most web is writen by html or xml (extension markup language) or json (javascript object )\n",
    "##### we can use the data scraping lib: \n",
    "## urllib2, urllib3(in python2 ),urllib.request(in python3 ) , requests + bs ( beautiful soup): html web\n",
    "## urllib2, urllib3,urllib.request(in python3 ) , requests + json: json web\n"
   ]
  },
  {
   "cell_type": "markdown",
   "metadata": {},
   "source": [
    "## requests library"
   ]
  },
  {
   "cell_type": "code",
   "execution_count": 2,
   "metadata": {
    "collapsed": true
   },
   "outputs": [],
   "source": [
    "import requests\n",
    "#import sys\n",
    "# reload(sys)\n",
    "#sys.setdefaultencoding('utf8')"
   ]
  },
  {
   "cell_type": "code",
   "execution_count": 13,
   "metadata": {},
   "outputs": [
    {
     "name": "stdout",
     "output_type": "stream",
     "text": [
      "200\n",
      "{'Content-Length': '7663', 'Via': '1.1 varnish', 'Content-Encoding': 'gzip', 'Age': '196', 'Keep-Alive': 'timeout=38', 'X-Sentry-Id': 'None', 'Server': 'nginx/1.2.1', 'X-Varnish': '2679257227 2679202243', 'X-Served-By': 'ip-172-31-7-133', 'X-Served-In-Seconds': '0.0876', 'Date': 'Wed, 19 Jul 2017 15:17:11 GMT', 'Content-Type': 'text/html; charset=utf-8', 'Accept-Ranges': 'bytes'}\n",
      "<RequestsCookieJar[]>\n"
     ]
    }
   ],
   "source": [
    "url = 'http://mooc.guokr.com/'\n",
    "headers = {'user-agent':'Mozilla/5.0 (Windows NT 6.1; WOW64) AppleWebKit/537.36 (KHTML, like Gecko) Chrome/58.0.3029.110 Safari/537.36',\n",
    "         'Accept-Encoding':'gzip, deflate', 'Accept-Language':'zh-CN,zh;q=0.8',}\n",
    "#user-agent: the application we are unsing \n",
    "#auth: \n",
    "response = requests.get(url, headers = headers)\n",
    "print response.status_code\n",
    "print response.headers\n",
    "print response.cookies\n",
    "# print response.json\n",
    "\n",
    "# response.encoding\n",
    "# respons"
   ]
  },
  {
   "cell_type": "code",
   "execution_count": 10,
   "metadata": {},
   "outputs": [
    {
     "data": {
      "text/plain": [
       "401"
      ]
     },
     "execution_count": 10,
     "metadata": {},
     "output_type": "execute_result"
    }
   ],
   "source": [
    "# There are times that you may want to send data that is not form-encoded. If you pass in a string instead of a dict, \n",
    "# that data will be posted directly.\n",
    "# For example, the GitHub API v3 accepts JSON-Encoded POST/PATCH data:\n",
    "# failed example\n",
    "# import json\n",
    "# #url = 'https://api.github.com/some/endpoint'\n",
    "# url ='https://api.github.com/user'\n",
    "# payload = {'message': 'data'}\n",
    "# r = requests.post(url, data=json.dumps(payload))\n",
    "# #r = requests.post(url, json=payload)"
   ]
  },
  {
   "cell_type": "code",
   "execution_count": 14,
   "metadata": {
    "collapsed": true
   },
   "outputs": [],
   "source": [
    "# if you want to use cookies in the parameter of headers \n",
    "# temp= requests.get('http://114.80.84.22/MAS/chakan.do?o=getLogin&name=GS60000001&psd=TPIC01001a123456')\n",
    "# raw_data = requests.get(url,headers = headers,cookies = temp.cookies)\n",
    "# print type(raw_data)"
   ]
  },
  {
   "cell_type": "code",
   "execution_count": 15,
   "metadata": {},
   "outputs": [
    {
     "data": {
      "text/plain": [
       "<requests.sessions.Session at 0x65c2f98>"
      ]
     },
     "execution_count": 15,
     "metadata": {},
     "output_type": "execute_result"
    }
   ],
   "source": [
    "requests.Session()\n",
    "\n"
   ]
  },
  {
   "cell_type": "code",
   "execution_count": null,
   "metadata": {
    "collapsed": true
   },
   "outputs": [],
   "source": []
  },
  {
   "cell_type": "code",
   "execution_count": 41,
   "metadata": {},
   "outputs": [
    {
     "name": "stdout",
     "output_type": "stream",
     "text": [
      "<type 'str'>\n"
     ]
    },
    {
     "data": {
      "text/plain": [
       "'\\n<?xml version=\"1.0\" encoding=\"utf-8\"?>\\n<!DOCTYPE html PUBLIC \"-//W3C//DTD XHTML 1.0 Strict//EN\"\\n \"http://www.w3.org/TR/xhtml1/DTD/xhtml1-strict.dtd\">\\n<html>\\n  <head>\\n    <title>403 Forbidden.</title>\\n  </head>\\n  <body>\\n    <h1>Error 403 Forbidden.</h1>\\n    <p>Forbidden.</p>\\n    <h3>Guru Meditation:</h3>\\n    <p>XID: 2589238267</p>\\n    <hr>\\n    <p>Varnish cache server</p>\\n  </body>\\n</html>\\n'"
      ]
     },
     "execution_count": 41,
     "metadata": {},
     "output_type": "execute_result"
    }
   ],
   "source": [
    "# I want to use the urllib2 to access the web as from the CS109 ,but failed\n",
    "# import urllib2\n",
    "# x = urllib2.urlopen(url).read()\n",
    " \n",
    "#in python3 \n",
    "import urllib\n",
    "\n",
    "x= urllib.urlopen(url).read()\n",
    "print type(x)"
   ]
  },
  {
   "cell_type": "code",
   "execution_count": 44,
   "metadata": {},
   "outputs": [
    {
     "name": "stdout",
     "output_type": "stream",
     "text": [
      "200\n",
      "{'Content-Length': '36482', 'Via': '1.1 varnish', 'Accept-Ranges': 'bytes', 'X-Sentry-ID': 'None', 'X-Varnish': '2589202039 2588994551', 'Server': 'nginx/1.2.1', 'Connection': 'keep-alive', 'X-Served-By': 'awserver03', 'X-Served-In-Seconds': '0.0733', 'Date': 'Sat, 15 Jul 2017 15:07:07 GMT', 'Content-Type': 'text/html; charset=utf-8', 'Age': '762'}\n",
      "<RequestsCookieJar[]>\n",
      "<bound method Response.json of <Response [200]>>\n"
     ]
    }
   ],
   "source": []
  },
  {
   "cell_type": "code",
   "execution_count": 45,
   "metadata": {},
   "outputs": [
    {
     "name": "stdout",
     "output_type": "stream",
     "text": [
      "<Response [200]>\n"
     ]
    }
   ],
   "source": [
    "print response"
   ]
  },
  {
   "cell_type": "code",
   "execution_count": 48,
   "metadata": {},
   "outputs": [
    {
     "data": {
      "text/plain": [
       "str"
      ]
     },
     "execution_count": 48,
     "metadata": {},
     "output_type": "execute_result"
    }
   ],
   "source": [
    "response.content\n",
    "type(response.content)"
   ]
  },
  {
   "cell_type": "markdown",
   "metadata": {},
   "source": [
    "# BeautifulSoup (html code)\n",
    "#### many good function for parsing html code"
   ]
  },
  {
   "cell_type": "code",
   "execution_count": 8,
   "metadata": {
    "collapsed": true,
    "scrolled": false
   },
   "outputs": [],
   "source": [
    "from bs4 import BeautifulSoup as bs\n",
    "\n",
    "#firstly instanciate a beautifulsoup object\n",
    "soup = bs(response.content,'html.parser')\n",
    "\n",
    "#print soup"
   ]
  },
  {
   "cell_type": "code",
   "execution_count": 9,
   "metadata": {
    "collapsed": true
   },
   "outputs": [],
   "source": [
    "# the pretttify method make the content a bit hunman readable\n",
    "print soup.prettify()"
   ]
  },
  {
   "cell_type": "code",
   "execution_count": 50,
   "metadata": {
    "scrolled": false
   },
   "outputs": [
    {
     "name": "stdout",
     "output_type": "stream",
     "text": [
      "<class 'bs4.element.ResultSet'>\n",
      "55\n"
     ]
    },
    {
     "data": {
      "text/plain": [
       "[<span class=\"sr-only\">Toggle Navigation</span>,\n",
       " <span class=\"icon-bar\"></span>,\n",
       " <span class=\"icon-bar\"></span>,\n",
       " <span class=\"icon-bar\"></span>,\n",
       " <span class=\"icon-app\"></span>,\n",
       " <span class=\"course-time\">2017\\u5e7407\\u670817\\u65e5\\u5f00\\u8bfe</span>,\n",
       " <span class=\"course-name\">Introduction to Classical Music</span>,\n",
       " <span class=\"course-name-ch\">\\u53e4\\u5178\\u97f3\\u4e50\\u5bfc\\u8bba</span>,\n",
       " <span class=\"course-info-score\">\\u8bc4\\u5206\\uff1a<b class=\"course-info-num\">9.4</b></span>,\n",
       " <span class=\"course-info-line\"></span>,\n",
       " <span class=\"course-time\">\\u65f6\\u95f4\\u81ea\\u4e3b</span>,\n",
       " <span class=\"course-name\">\\u751f\\u6d3b\\u82f1\\u8bed\\u542c\\u8bf4</span>,\n",
       " <span class=\"course-name-ch\"></span>,\n",
       " <span class=\"course-info-score\">\\u8bc4\\u5206\\uff1a<b class=\"course-info-num\">9.1</b></span>,\n",
       " <span class=\"course-info-line\"></span>,\n",
       " <span class=\"course-time\">\\u65f6\\u95f4\\u81ea\\u4e3b</span>,\n",
       " <span class=\"course-name\">\\u6587\\u7269\\u7cbe\\u54c1\\u4e0e\\u6587\\u5316\\u4e2d\\u56fd</span>,\n",
       " <span class=\"course-name-ch\"></span>,\n",
       " <span class=\"course-info-score\">\\u8bc4\\u5206\\uff1a<b class=\"course-info-num\">9.3</b></span>,\n",
       " <span class=\"course-info-line\"></span>,\n",
       " <span class=\"course-time\">\\u65f6\\u95f4\\u81ea\\u4e3b</span>,\n",
       " <span class=\"course-name\">Introduction to Computer Science</span>,\n",
       " <span class=\"course-name-ch\">\\u8ba1\\u7b97\\u673a\\u79d1\\u5b66\\u5bfc\\u8bba</span>,\n",
       " <span class=\"course-info-score\">\\u8bc4\\u5206\\uff1a<b class=\"course-info-num\">9.3</b></span>,\n",
       " <span class=\"course-info-line\"></span>,\n",
       " <span class=\"course-time\">\\u65f6\\u95f4\\u81ea\\u4e3b</span>,\n",
       " <span class=\"course-name\">From the Big Bang to Dark Energy</span>,\n",
       " <span class=\"course-name-ch\">\\u4ece\\u5927\\u7206\\u70b8\\u5230\\u6697\\u80fd\\u91cf</span>,\n",
       " <span class=\"course-info-score\">\\u8bc4\\u5206\\uff1a<b class=\"course-info-num\">9.2</b></span>,\n",
       " <span class=\"course-info-line\"></span>,\n",
       " <span class=\"course-time\">2017\\u5e7406\\u670806\\u65e5\\u5f00\\u8bfe</span>,\n",
       " <span class=\"course-name\">The Analytics Edge</span>,\n",
       " <span class=\"course-name-ch\">\\u5206\\u6790\\u5b66\\u7684\\u4f18\\u52bf</span>,\n",
       " <span class=\"course-info-score\">\\u8bc4\\u5206\\uff1a<b class=\"course-info-num\">8.8</b></span>,\n",
       " <span class=\"course-info-line\"></span>,\n",
       " <span class=\"course-time\">2015\\u5e7403\\u670816\\u65e5\\u5f00\\u8bfe</span>,\n",
       " <span class=\"course-name\">\\u7edf\\u8ba1\\u7b80\\u5355\\u5b66</span>,\n",
       " <span class=\"course-name-ch\"></span>,\n",
       " <span class=\"course-info-score\">\\u8bc4\\u5206\\uff1a<b class=\"course-info-num\">9.0</b></span>,\n",
       " <span class=\"course-info-line\"></span>,\n",
       " <span class=\"course-time\">2017\\u5e7406\\u670819\\u65e5\\u5f00\\u8bfe</span>,\n",
       " <span class=\"course-name\">Understanding Europe: Why It Matters and What It Can Offer You</span>,\n",
       " <span class=\"course-name-ch\">\\u4e86\\u89e3\\u6b27\\u6d32\\uff1a\\u6b27\\u6d32\\u7684\\u91cd\\u8981\\u6027\\u4ee5\\u53ca\\u5b83\\u5bf9\\u4e8e\\u60a8\\u7684\\u4ef7\\u503c</span>,\n",
       " <span class=\"course-info-score\">\\u8bc4\\u5206\\uff1a<b class=\"course-info-num\">9.2</b></span>,\n",
       " <span class=\"course-info-line\"></span>,\n",
       " <span>TED</span>,\n",
       " <span class=\"talk-name\">\\u6c89\\u9ed8\\u7684\\u5371\\u9669\\u6027</span>,\n",
       " <span>TED</span>,\n",
       " <span class=\"talk-name\">\\u6fc0\\u70c8\\u62a8\\u51fb\\u5fc3\\u7406\\u9a97\\u5c40</span>,\n",
       " <span>TED</span>,\n",
       " <span class=\"talk-name\">\\u6211\\u4eec\\u4ee5\\u4e3a\\u81ea\\u5df1\\u77e5\\u9053\\u7684\\u4e8b</span>,\n",
       " <span>TED</span>,\n",
       " <span class=\"talk-name\">\\u5982\\u679c\\u6211\\u80fd\\u5230\\u4efb\\u4f55\\u5730\\u65b9</span>,\n",
       " <span class=\"icon-code-weixin\"></span>,\n",
       " <span class=\"bottom-part\">\\xa92017\\u679c\\u58f3\\u7f51</span>]"
      ]
     },
     "execution_count": 50,
     "metadata": {},
     "output_type": "execute_result"
    }
   ],
   "source": [
    "# we want find all the classes and its websit\n",
    "#beautifulsoup object have many methon we can use\n",
    "# the class seems in the tag: ul(unorderd list)\n",
    "class_list = soup.find_all('span')\n",
    "print type(class_list)\n",
    "print len(class_list)\n",
    "class_list\n",
    "#so there are lot of other stuff "
   ]
  },
  {
   "cell_type": "code",
   "execution_count": 63,
   "metadata": {},
   "outputs": [
    {
     "name": "stdout",
     "output_type": "stream",
     "text": [
      "<class 'bs4.element.ResultSet'>\n",
      "8\n",
      "span|{'class': u'course-name'}\n",
      "Introduction to Classical Music\n",
      "生活英语听说\n",
      "文物精品与文化中国\n",
      "Introduction to Computer Science\n",
      "From the Big Bang to Dark Energy\n",
      "The Analytics Edge\n",
      "统计简单学\n",
      "Understanding Europe: Why It Matters and What It Can Offer You\n"
     ]
    },
    {
     "data": {
      "text/plain": [
       "[u'Introduction to Classical Music',\n",
       " u'\\u751f\\u6d3b\\u82f1\\u8bed\\u542c\\u8bf4',\n",
       " u'\\u6587\\u7269\\u7cbe\\u54c1\\u4e0e\\u6587\\u5316\\u4e2d\\u56fd',\n",
       " u'Introduction to Computer Science',\n",
       " u'From the Big Bang to Dark Energy',\n",
       " u'The Analytics Edge',\n",
       " u'\\u7edf\\u8ba1\\u7b80\\u5355\\u5b66',\n",
       " u'Understanding Europe: Why It Matters and What It Can Offer You']"
      ]
     },
     "execution_count": 63,
     "metadata": {},
     "output_type": "execute_result"
    }
   ],
   "source": [
    "course_data = soup.find_all('span',{'class':'course-name'})\n",
    "print type(course_data)\n",
    "print len(course_data)\n",
    "print course_data.source\n",
    "\n",
    "course_list = []\n",
    "for x in course_data:\n",
    "    print x.text    #use the .text methon to get the text of the tag\n",
    "    course_list.append(x.text)\n",
    "course_list    "
   ]
  },
  {
   "cell_type": "code",
   "execution_count": 15,
   "metadata": {},
   "outputs": [
    {
     "name": "stdout",
     "output_type": "stream",
     "text": [
      "http://mooc.guokr.com/course/2049/Introduction-to-Classical-Music/\n",
      "http://mooc.guokr.com/course/2049/Introduction-to-Classical-Music/\n",
      "http://mooc.guokr.com/course/5023/生活英语听说/\n",
      "http://mooc.guokr.com/course/5023/生活英语听说/\n",
      "http://mooc.guokr.com/course/895/文物精品与文化中国/\n",
      "http://mooc.guokr.com/course/895/文物精品与文化中国/\n",
      "http://mooc.guokr.com/course/360/Introduction-to-Computer-Science/\n",
      "http://mooc.guokr.com/course/360/Introduction-to-Computer-Science/\n",
      "http://mooc.guokr.com/course/267/From-the-Big-Bang-to-Dark-Energy/\n",
      "http://mooc.guokr.com/course/267/From-the-Big-Bang-to-Dark-Energy/\n",
      "http://mooc.guokr.com/course/972/The-Analytics-Edge/\n",
      "http://mooc.guokr.com/course/972/The-Analytics-Edge/\n",
      "http://mooc.guokr.com/course/636/统计简单学/\n",
      "http://mooc.guokr.com/course/636/统计简单学/\n",
      "http://mooc.guokr.com/course/866/Understanding-Europe--Why-It-Matters-and-What-It-Can-Offer-You/\n",
      "http://mooc.guokr.com/course/866/Understanding-Europe--Why-It-Matters-and-What-It-Can-Offer-You/\n",
      "[u'http://mooc.guokr.com/course/2049/Introduction-to-Classical-Music/', u'http://mooc.guokr.com/course/5023/\\u751f\\u6d3b\\u82f1\\u8bed\\u542c\\u8bf4/', u'http://mooc.guokr.com/course/895/\\u6587\\u7269\\u7cbe\\u54c1\\u4e0e\\u6587\\u5316\\u4e2d\\u56fd/', u'http://mooc.guokr.com/course/360/Introduction-to-Computer-Science/', u'http://mooc.guokr.com/course/267/From-the-Big-Bang-to-Dark-Energy/', u'http://mooc.guokr.com/course/972/The-Analytics-Edge/', u'http://mooc.guokr.com/course/636/\\u7edf\\u8ba1\\u7b80\\u5355\\u5b66/', u'http://mooc.guokr.com/course/866/Understanding-Europe--Why-It-Matters-and-What-It-Can-Offer-You/']\n"
     ]
    }
   ],
   "source": [
    "#parse the webs for each course with tag a (reference) and specified key-value pair\n",
    "web_data = soup.find_all('a',{'class':'course-img'})\n",
    "web_list = []\n",
    "for x in web_data:\n",
    "    print x['href']     #use the label in the tag to get the value\n",
    "    print x.get('href')# use the get methon\n",
    "    web_list.append(x['href'])\n",
    "len(web_list)\n",
    "\n",
    "print web_list"
   ]
  },
  {
   "cell_type": "code",
   "execution_count": 16,
   "metadata": {},
   "outputs": [
    {
     "data": {
      "text/plain": [
       "{u'From the Big Bang to Dark Energy': u'http://mooc.guokr.com/course/267/From-the-Big-Bang-to-Dark-Energy/',\n",
       " u'Introduction to Classical Music': u'http://mooc.guokr.com/course/2049/Introduction-to-Classical-Music/',\n",
       " u'Introduction to Computer Science': u'http://mooc.guokr.com/course/360/Introduction-to-Computer-Science/',\n",
       " u'The Analytics Edge': u'http://mooc.guokr.com/course/972/The-Analytics-Edge/',\n",
       " u'Understanding Europe: Why It Matters and What It Can Offer You': u'http://mooc.guokr.com/course/866/Understanding-Europe--Why-It-Matters-and-What-It-Can-Offer-You/',\n",
       " u'\\u6587\\u7269\\u7cbe\\u54c1\\u4e0e\\u6587\\u5316\\u4e2d\\u56fd': u'http://mooc.guokr.com/course/895/\\u6587\\u7269\\u7cbe\\u54c1\\u4e0e\\u6587\\u5316\\u4e2d\\u56fd/',\n",
       " u'\\u751f\\u6d3b\\u82f1\\u8bed\\u542c\\u8bf4': u'http://mooc.guokr.com/course/5023/\\u751f\\u6d3b\\u82f1\\u8bed\\u542c\\u8bf4/',\n",
       " u'\\u7edf\\u8ba1\\u7b80\\u5355\\u5b66': u'http://mooc.guokr.com/course/636/\\u7edf\\u8ba1\\u7b80\\u5355\\u5b66/'}"
      ]
     },
     "execution_count": 16,
     "metadata": {},
     "output_type": "execute_result"
    }
   ],
   "source": [
    "#construct a dictionary for course\n",
    "course_dict =dict(zip(course_list,web_list))\n",
    "course_dict\n"
   ]
  },
  {
   "cell_type": "markdown",
   "metadata": {},
   "source": [
    "# Data scraping with API "
   ]
  },
  {
   "cell_type": "code",
   "execution_count": 1,
   "metadata": {
    "collapsed": true
   },
   "outputs": [],
   "source": [
    "import urllib\n",
    "import requests"
   ]
  },
  {
   "cell_type": "code",
   "execution_count": 4,
   "metadata": {},
   "outputs": [
    {
     "data": {
      "text/plain": [
       "{u'results': [{u'address_components': [{u'long_name': u'Heathrow Airport',\n",
       "     u'short_name': u'Heathrow Airport',\n",
       "     u'types': [u'airport', u'establishment', u'point_of_interest']},\n",
       "    {u'long_name': u'Longford',\n",
       "     u'short_name': u'Longford',\n",
       "     u'types': [u'locality', u'political']},\n",
       "    {u'long_name': u'Greater London',\n",
       "     u'short_name': u'Greater London',\n",
       "     u'types': [u'administrative_area_level_2', u'political']},\n",
       "    {u'long_name': u'England',\n",
       "     u'short_name': u'England',\n",
       "     u'types': [u'administrative_area_level_1', u'political']},\n",
       "    {u'long_name': u'United Kingdom',\n",
       "     u'short_name': u'GB',\n",
       "     u'types': [u'country', u'political']},\n",
       "    {u'long_name': u'TW6',\n",
       "     u'short_name': u'TW6',\n",
       "     u'types': [u'postal_code', u'postal_code_prefix']}],\n",
       "   u'formatted_address': u'Heathrow Airport (LHR), Longford TW6, UK',\n",
       "   u'geometry': {u'location': {u'lat': 51.4700223, u'lng': -0.4542955},\n",
       "    u'location_type': u'GEOMETRIC_CENTER',\n",
       "    u'viewport': {u'northeast': {u'lat': 51.47137128029149,\n",
       "      u'lng': -0.452946519708498},\n",
       "     u'southwest': {u'lat': 51.46867331970849, u'lng': -0.4556444802915021}}},\n",
       "   u'place_id': u'ChIJ6W3FzTRydkgRZ0H2Q1VT548',\n",
       "   u'types': [u'airport', u'establishment', u'point_of_interest']}],\n",
       " u'status': u'OK'}"
      ]
     },
     "execution_count": 4,
     "metadata": {},
     "output_type": "execute_result"
    }
   ],
   "source": [
    "main_api = 'http://maps.googleapis.com/maps/api/geocode/json?'\n",
    "address = 'lhr'\n",
    "url = main_api+ urllib.urlencode({'address':address})\n",
    "# response = requests.get(url)\n",
    "# response.json()\n",
    "\n",
    "json_data = requests.get(url).json() #convert to json data\n",
    "json_data\n",
    "\n"
   ]
  }
 ],
 "metadata": {
  "kernelspec": {
   "display_name": "Python [default]",
   "language": "python",
   "name": "python2"
  },
  "language_info": {
   "codemirror_mode": {
    "name": "ipython",
    "version": 2
   },
   "file_extension": ".py",
   "mimetype": "text/x-python",
   "name": "python",
   "nbconvert_exporter": "python",
   "pygments_lexer": "ipython2",
   "version": "2.7.13"
  }
 },
 "nbformat": 4,
 "nbformat_minor": 2
}
