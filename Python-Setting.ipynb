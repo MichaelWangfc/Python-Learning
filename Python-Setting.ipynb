{
 "cells": [
  {
   "cell_type": "markdown",
   "metadata": {},
   "source": [
    "# 1. Anaconda install\n",
    "# 2. Enviroment path setup\n",
    "# 3.python package manager: pip\n",
    "#    conda package manager: conda"
   ]
  },
  {
   "cell_type": "code",
   "execution_count": null,
   "metadata": {
    "collapsed": true
   },
   "outputs": [],
   "source": [
    "https://packaging.python.org/tutorials/installing-packages/#use-pip-for-installing"
   ]
  },
  {
   "cell_type": "markdown",
   "metadata": {},
   "source": [
    "### pip problem\n",
    "Unknown or unsupported command 'install'"
   ]
  },
  {
   "cell_type": "markdown",
   "metadata": {
    "collapsed": true
   },
   "source": [
    "Do you happen to have the Perl pip lying around somewhere?\n",
    "\n",
    "Sounds like the problem described here:\n",
    "\n",
    "https://github.com/mike-perdide/gitbuster/issues/62\n",
    "\n",
    "To check, in Windows command prompt execute:\n",
    "\n",
    "C:\\>where pip\n",
    "This will potentially output the following:\n",
    "\n",
    "C:\\strawberry\\perl\\bin\\pip\n",
    "C:\\strawberry\\perl\\bin\\pip.bat\n",
    "If so, this is your problem. Unistall Strawberry Perl or use the full path to python pip\n",
    "\n",
    "or \n",
    "\n",
    "pip.exe install selenium "
   ]
  },
  {
   "cell_type": "markdown",
   "metadata": {},
   "source": [
    "# virtual envirment for python project\n",
    "which can make you use the different version of python and different verison of packages"
   ]
  },
  {
   "cell_type": "code",
   "execution_count": null,
   "metadata": {
    "collapsed": true
   },
   "outputs": [],
   "source": [
    "#\n",
    "cmd\n",
    "\n",
    "#make sure you have installed the python\n",
    "python  (--version)\n",
    "\n",
    "#show the  glaobal site packages\n",
    "pip list\n",
    "\n",
    "#use the pip (the python install package tool) to install virtualenv\n",
    "pip install virtualenv\n",
    "\n",
    "#creat a dirctory where you want to set this virtual envriorment \n",
    "mkdir env_py27\n",
    "cd env_py27\n",
    "\n",
    "#construct a new enviroment for one project\n",
    "virtualenv project1_py27\n",
    "#it will install setuptool pip in this new project dirctory\n",
    "#but you need to activate this virtual enviorment\n",
    "#in Mac: source project1_py27/bin/activate\n",
    "#in Windows\n",
    "cd project1_py27/Scripts\n",
    "activate\n",
    "\n",
    "#we can test whether we are in the new virtual enviroment\n",
    "which python\n",
    "which pip\n",
    "pip list # now we can just see the packes in this new virtual envrioment\n",
    "\n",
    "#then you can install some package into this virtual enviroment with pip\n",
    "pip install requests\n",
    "\n",
    "#if we want to export all the verion num of the packages to anthon project,we can freeze just the local enviroment into a text file\n",
    "pip freeze --local > requirements.txt\n",
    "#show the version information\n",
    "cat requirements.tet\n",
    "\n",
    "#if you want to get out of the current enviroment\n",
    "deactivate\n",
    "\n",
    "#if you want to use a specific version of python3.4 in the dirctory of project2_py34\n",
    "virtualenv -p C:/Python34/python.exe  project2_py34\n",
    "\n"
   ]
  },
  {
   "cell_type": "markdown",
   "metadata": {},
   "source": [
    "## Python Environment Management with Conda \n",
    "### (Python 2 + 3, Using Multiple Versions of Python)\n",
    "#### https://medium.com/towards-data-science/environment-management-with-conda-python-2-3-b9961a8a5097"
   ]
  },
  {
   "cell_type": "code",
   "execution_count": null,
   "metadata": {
    "collapsed": true
   },
   "outputs": [],
   "source": [
    "python --version\n",
    "\n",
    "# you can even add names of packages after python=3.6 like python=3.6 pandas\n",
    "conda create --name subscribe python=3.6\n",
    "\n",
    "# to get into your new environment\n",
    "source activate subscribe\n",
    "\n",
    "# Leave your environment\n",
    "source deactivate\n",
    "\n",
    "# Remove your environment\n",
    "conda env remove --name subscribe\n",
    "\n",
    "# List your environments\n",
    "conda env list"
   ]
  },
  {
   "cell_type": "code",
   "execution_count": null,
   "metadata": {
    "collapsed": true
   },
   "outputs": [],
   "source": [
    " make sure you have anaconda 4.1.0 or higher. Open a new terminal and check your conda version by typing\n",
    "\n",
    "checking conda version\n",
    "if you are below anaconda 4.1.0, type conda update conda\n",
    "2. Next we check to see if we have the library nb_conda_kernels by typing\n",
    "\n",
    "Checking if we have nb_conda_kernels\n",
    "3. If you don’t see nb_conda_kernels type\n",
    "\n",
    "Installing nb_conda_kernels\n",
    "4. If you are using Python 2 and want a separate Python 3 environment please type the following\n",
    "\n",
    "py36 is the name of the environment. You could literally name it anything you want.\n",
    "If you are using Python 3 and want a separate Python 2 environment, you could type the following.\n",
    "\n",
    "py27 is the name of the environment. It uses python 2.7.\n",
    "5. Close your terminal and open up a new terminal. type jupyter notebook\n",
    "6. Click new and you will see your virtual environment listed."
   ]
  },
  {
   "cell_type": "markdown",
   "metadata": {},
   "source": [
    "### the problem here is how to deal wtih the dependency"
   ]
  }
 ],
 "metadata": {
  "kernelspec": {
   "display_name": "Python [conda root]",
   "language": "python",
   "name": "conda-root-py"
  },
  "language_info": {
   "codemirror_mode": {
    "name": "ipython",
    "version": 3
   },
   "file_extension": ".py",
   "mimetype": "text/x-python",
   "name": "python",
   "nbconvert_exporter": "python",
   "pygments_lexer": "ipython3",
   "version": "3.6.0"
  }
 },
 "nbformat": 4,
 "nbformat_minor": 2
}
