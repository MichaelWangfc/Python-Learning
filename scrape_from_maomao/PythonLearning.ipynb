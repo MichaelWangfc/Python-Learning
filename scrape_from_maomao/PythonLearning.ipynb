{
 "cells": [
  {
   "cell_type": "markdown",
   "metadata": {},
   "source": [
    "# virtual envirment for python project\n",
    "### which can make you use the different version of python and different verison of packages\n"
   ]
  },
  {
   "cell_type": "code",
   "execution_count": null,
   "metadata": {
    "collapsed": true
   },
   "outputs": [],
   "source": [
    "#\n",
    "cmd\n",
    "\n",
    "#make sure you have installed the python\n",
    "python  (--version)\n",
    "\n",
    "#show the  glaobal site packages\n",
    "pip list\n",
    "\n",
    "#use the pip (the python install package tool) to install virtualenv\n",
    "pip install virtualenv\n",
    "\n",
    "#creat a dirctory where you want to set this virtual envriorment \n",
    "mkdir env_py27\n",
    "cd env_py27\n",
    "\n",
    "#construct a new enviroment for one project\n",
    "virtualenv project1_py27\n",
    "#it will install setuptool pip in this new project dirctory\n",
    "#but you need to activate this virtual enviorment\n",
    "#in Mac: source project1_py27/bin/activate\n",
    "#in Windows\n",
    "cd project1_py27/Scripts\n",
    "activate\n",
    "\n",
    "#we can test whether we are in the new virtual enviroment\n",
    "which python\n",
    "which pip\n",
    "pip list # now we can just see the packes in this new virtual envrioment\n",
    "\n",
    "#then you can install some package into this virtual enviroment with pip\n",
    "pip install requests\n",
    "\n",
    "#if we want to export all the verion num of the packages to anthon project,we can freeze just the local enviroment into a text file\n",
    "pip freeze --local > requirements.txt\n",
    "#show the version information\n",
    "cat requirements.tet\n",
    "\n",
    "#if you want to get out of the current enviroment\n",
    "deactivate\n",
    "\n",
    "#if you want to use a specific version of python3.4 in the dirctory of project2_py34\n",
    "virtualenv -p C:/Python34/python.exe  project2_py34\n",
    "\n"
   ]
  },
  {
   "cell_type": "markdown",
   "metadata": {},
   "source": [
    "# Data scraping\n",
    "##### Data scraping can be directly web scraping or using API (application program interface),\n",
    "##### according to different type of data structure: most web is writen by html or xml (extension markup language) or json (javascript object )\n",
    "##### we can use the data scraping lib: \n",
    "## urllib2, urllib3(in python2 ),urllib.request(in python3 ) requests + bs ( beautiful soup): html web\n",
    "## urllib2, urllib3,urllib.request(in python3 ) requests + json: json web\n"
   ]
  },
  {
   "cell_type": "markdown",
   "metadata": {},
   "source": [
    "## requests library"
   ]
  },
  {
   "cell_type": "code",
   "execution_count": 1,
   "metadata": {
    "collapsed": true
   },
   "outputs": [],
   "source": [
    "import requests"
   ]
  },
  {
   "cell_type": "code",
   "execution_count": 13,
   "metadata": {},
   "outputs": [],
   "source": [
    "url = 'http://mooc.guokr.com/'\n",
    "header = {'user-agent':'Mozilla/5.0 (Windows NT 6.1; WOW64) AppleWebKit/537.36 (KHTML, like Gecko) Chrome/58.0.3029.110 Safari/537.36'}\n",
    "#user-agent: the application we are unsing \n",
    "#auth: \n"
   ]
  },
  {
   "cell_type": "code",
   "execution_count": null,
   "metadata": {
    "collapsed": true
   },
   "outputs": [],
   "source": [
    "# if you want to use cookies in the parameter of headers \n",
    "# temp= requests.get('http://114.80.84.22/MAS/chakan.do?o=getLogin&name=GS60000001&psd=TPIC01001a123456')\n",
    "# raw_data = requests.get(url,headers = headers,cookies = r.cookies)"
   ]
  },
  {
   "cell_type": "code",
   "execution_count": null,
   "metadata": {
    "collapsed": true
   },
   "outputs": [],
   "source": [
    "raw_data = requests.get(url, headers = header)\n"
   ]
  },
  {
   "cell_type": "code",
   "execution_count": 44,
   "metadata": {},
   "outputs": [],
   "source": [
    "# I want to use the urllib2 to access the web ,but failed\n",
    "# import urllib2\n",
    "\n",
    "# x = urllib2.urlopen(url)\n",
    " \n",
    "#in python3 \n",
    "# import urllib.request\n",
    "# import urllib.parse"
   ]
  },
  {
   "cell_type": "code",
   "execution_count": 52,
   "metadata": {},
   "outputs": [
    {
     "name": "stdout",
     "output_type": "stream",
     "text": [
      "200\n",
      "{'Content-Length': '7657', 'Via': '1.1 varnish', 'Content-Encoding': 'gzip', 'Accept-Ranges': 'bytes', 'X-Sentry-ID': 'None', 'X-Varnish': '2581010795 2580919460', 'Server': 'nginx/1.2.1', 'Connection': 'keep-alive', 'X-Served-By': 'ip-172-31-6-171', 'X-Served-In-Seconds': '0.0786', 'Date': 'Sat, 15 Jul 2017 06:37:15 GMT', 'Content-Type': 'text/html; charset=utf-8', 'Age': '331'}\n",
      "<RequestsCookieJar[]>\n"
     ]
    }
   ],
   "source": [
    "print raw_data.status_code\n",
    "print raw_data.headers\n",
    "print raw_data.cookies\n"
   ]
  },
  {
   "cell_type": "code",
   "execution_count": 55,
   "metadata": {},
   "outputs": [],
   "source": [
    "#print raw_data.content\n"
   ]
  },
  {
   "cell_type": "markdown",
   "metadata": {},
   "source": [
    "# BeautifulSoup (html code)\n",
    "#### many good function for parsing html code"
   ]
  },
  {
   "cell_type": "code",
   "execution_count": 56,
   "metadata": {
    "scrolled": false
   },
   "outputs": [],
   "source": [
    "from bs4 import BeautifulSoup as bs\n",
    "\n",
    "#firstly instanciate a beautifulsoup object\n",
    "soup = bs(raw_data.content,'html.parser')\n",
    "\n",
    "#print soup"
   ]
  },
  {
   "cell_type": "code",
   "execution_count": 113,
   "metadata": {},
   "outputs": [],
   "source": [
    "# the pretttify method make the content a bit hunman readable\n",
    "#print soup.prettify()"
   ]
  },
  {
   "cell_type": "code",
   "execution_count": 65,
   "metadata": {
    "scrolled": false
   },
   "outputs": [
    {
     "name": "stdout",
     "output_type": "stream",
     "text": [
      "55\n"
     ]
    },
    {
     "data": {
      "text/plain": [
       "[<span class=\"sr-only\">Toggle Navigation</span>,\n",
       " <span class=\"icon-bar\"></span>,\n",
       " <span class=\"icon-bar\"></span>,\n",
       " <span class=\"icon-bar\"></span>,\n",
       " <span class=\"icon-app\"></span>,\n",
       " <span class=\"course-time\">2017\\u5e7407\\u670817\\u65e5\\u5f00\\u8bfe</span>,\n",
       " <span class=\"course-name\">Introduction to Classical Music</span>,\n",
       " <span class=\"course-name-ch\">\\u53e4\\u5178\\u97f3\\u4e50\\u5bfc\\u8bba</span>,\n",
       " <span class=\"course-info-score\">\\u8bc4\\u5206\\uff1a<b class=\"course-info-num\">9.4</b></span>,\n",
       " <span class=\"course-info-line\"></span>,\n",
       " <span class=\"course-time\">\\u65f6\\u95f4\\u81ea\\u4e3b</span>,\n",
       " <span class=\"course-name\">\\u751f\\u6d3b\\u82f1\\u8bed\\u542c\\u8bf4</span>,\n",
       " <span class=\"course-name-ch\"></span>,\n",
       " <span class=\"course-info-score\">\\u8bc4\\u5206\\uff1a<b class=\"course-info-num\">9.1</b></span>,\n",
       " <span class=\"course-info-line\"></span>,\n",
       " <span class=\"course-time\">\\u65f6\\u95f4\\u81ea\\u4e3b</span>,\n",
       " <span class=\"course-name\">\\u6587\\u7269\\u7cbe\\u54c1\\u4e0e\\u6587\\u5316\\u4e2d\\u56fd</span>,\n",
       " <span class=\"course-name-ch\"></span>,\n",
       " <span class=\"course-info-score\">\\u8bc4\\u5206\\uff1a<b class=\"course-info-num\">9.3</b></span>,\n",
       " <span class=\"course-info-line\"></span>,\n",
       " <span class=\"course-time\">\\u65f6\\u95f4\\u81ea\\u4e3b</span>,\n",
       " <span class=\"course-name\">Introduction to Computer Science</span>,\n",
       " <span class=\"course-name-ch\">\\u8ba1\\u7b97\\u673a\\u79d1\\u5b66\\u5bfc\\u8bba</span>,\n",
       " <span class=\"course-info-score\">\\u8bc4\\u5206\\uff1a<b class=\"course-info-num\">9.3</b></span>,\n",
       " <span class=\"course-info-line\"></span>,\n",
       " <span class=\"course-time\">\\u65f6\\u95f4\\u81ea\\u4e3b</span>,\n",
       " <span class=\"course-name\">From the Big Bang to Dark Energy</span>,\n",
       " <span class=\"course-name-ch\">\\u4ece\\u5927\\u7206\\u70b8\\u5230\\u6697\\u80fd\\u91cf</span>,\n",
       " <span class=\"course-info-score\">\\u8bc4\\u5206\\uff1a<b class=\"course-info-num\">9.2</b></span>,\n",
       " <span class=\"course-info-line\"></span>,\n",
       " <span class=\"course-time\">2017\\u5e7406\\u670806\\u65e5\\u5f00\\u8bfe</span>,\n",
       " <span class=\"course-name\">The Analytics Edge</span>,\n",
       " <span class=\"course-name-ch\">\\u5206\\u6790\\u5b66\\u7684\\u4f18\\u52bf</span>,\n",
       " <span class=\"course-info-score\">\\u8bc4\\u5206\\uff1a<b class=\"course-info-num\">8.8</b></span>,\n",
       " <span class=\"course-info-line\"></span>,\n",
       " <span class=\"course-time\">2015\\u5e7403\\u670816\\u65e5\\u5f00\\u8bfe</span>,\n",
       " <span class=\"course-name\">\\u7edf\\u8ba1\\u7b80\\u5355\\u5b66</span>,\n",
       " <span class=\"course-name-ch\"></span>,\n",
       " <span class=\"course-info-score\">\\u8bc4\\u5206\\uff1a<b class=\"course-info-num\">9.0</b></span>,\n",
       " <span class=\"course-info-line\"></span>,\n",
       " <span class=\"course-time\">2017\\u5e7406\\u670819\\u65e5\\u5f00\\u8bfe</span>,\n",
       " <span class=\"course-name\">Understanding Europe: Why It Matters and What It Can Offer You</span>,\n",
       " <span class=\"course-name-ch\">\\u4e86\\u89e3\\u6b27\\u6d32\\uff1a\\u6b27\\u6d32\\u7684\\u91cd\\u8981\\u6027\\u4ee5\\u53ca\\u5b83\\u5bf9\\u4e8e\\u60a8\\u7684\\u4ef7\\u503c</span>,\n",
       " <span class=\"course-info-score\">\\u8bc4\\u5206\\uff1a<b class=\"course-info-num\">9.2</b></span>,\n",
       " <span class=\"course-info-line\"></span>,\n",
       " <span>TED</span>,\n",
       " <span class=\"talk-name\">\\u6c89\\u9ed8\\u7684\\u5371\\u9669\\u6027</span>,\n",
       " <span>TED</span>,\n",
       " <span class=\"talk-name\">\\u6fc0\\u70c8\\u62a8\\u51fb\\u5fc3\\u7406\\u9a97\\u5c40</span>,\n",
       " <span>TED</span>,\n",
       " <span class=\"talk-name\">\\u6211\\u4eec\\u4ee5\\u4e3a\\u81ea\\u5df1\\u77e5\\u9053\\u7684\\u4e8b</span>,\n",
       " <span>TED</span>,\n",
       " <span class=\"talk-name\">\\u5982\\u679c\\u6211\\u80fd\\u5230\\u4efb\\u4f55\\u5730\\u65b9</span>,\n",
       " <span class=\"icon-code-weixin\"></span>,\n",
       " <span class=\"bottom-part\">\\xa92017\\u679c\\u58f3\\u7f51</span>]"
      ]
     },
     "execution_count": 65,
     "metadata": {},
     "output_type": "execute_result"
    }
   ],
   "source": [
    "# we want find all the classes \n",
    "# the class seems in the tag: ul(unorderd list)\n",
    "class_list = soup.find_all('span')\n",
    "print len(class_list)\n",
    "class_list\n",
    "#so there are lot of other stuff "
   ]
  },
  {
   "cell_type": "code",
   "execution_count": 106,
   "metadata": {},
   "outputs": [
    {
     "name": "stdout",
     "output_type": "stream",
     "text": [
      "8\n",
      "Introduction to Classical Music\n",
      "生活英语听说\n",
      "文物精品与文化中国\n",
      "Introduction to Computer Science\n",
      "From the Big Bang to Dark Energy\n",
      "The Analytics Edge\n",
      "统计简单学\n",
      "Understanding Europe: Why It Matters and What It Can Offer You\n"
     ]
    },
    {
     "data": {
      "text/plain": [
       "[u'Introduction to Classical Music',\n",
       " u'\\u751f\\u6d3b\\u82f1\\u8bed\\u542c\\u8bf4',\n",
       " u'\\u6587\\u7269\\u7cbe\\u54c1\\u4e0e\\u6587\\u5316\\u4e2d\\u56fd',\n",
       " u'Introduction to Computer Science',\n",
       " u'From the Big Bang to Dark Energy',\n",
       " u'The Analytics Edge',\n",
       " u'\\u7edf\\u8ba1\\u7b80\\u5355\\u5b66',\n",
       " u'Understanding Europe: Why It Matters and What It Can Offer You']"
      ]
     },
     "execution_count": 106,
     "metadata": {},
     "output_type": "execute_result"
    }
   ],
   "source": [
    "course_data = soup.find_all('span',{'class':'course-name'})\n",
    "print len(course_data)\n",
    "course_list = []\n",
    "for x in course_data:\n",
    "    print x.text\n",
    "    course_list.append(x.text)\n",
    "course_list    "
   ]
  },
  {
   "cell_type": "code",
   "execution_count": 112,
   "metadata": {},
   "outputs": [
    {
     "name": "stdout",
     "output_type": "stream",
     "text": [
      "http://mooc.guokr.com/course/2049/Introduction-to-Classical-Music/\n",
      "http://mooc.guokr.com/course/2049/Introduction-to-Classical-Music/\n",
      "http://mooc.guokr.com/course/5023/生活英语听说/\n",
      "http://mooc.guokr.com/course/5023/生活英语听说/\n",
      "http://mooc.guokr.com/course/895/文物精品与文化中国/\n",
      "http://mooc.guokr.com/course/895/文物精品与文化中国/\n",
      "http://mooc.guokr.com/course/360/Introduction-to-Computer-Science/\n",
      "http://mooc.guokr.com/course/360/Introduction-to-Computer-Science/\n",
      "http://mooc.guokr.com/course/267/From-the-Big-Bang-to-Dark-Energy/\n",
      "http://mooc.guokr.com/course/267/From-the-Big-Bang-to-Dark-Energy/\n",
      "http://mooc.guokr.com/course/972/The-Analytics-Edge/\n",
      "http://mooc.guokr.com/course/972/The-Analytics-Edge/\n",
      "http://mooc.guokr.com/course/636/统计简单学/\n",
      "http://mooc.guokr.com/course/636/统计简单学/\n",
      "http://mooc.guokr.com/course/866/Understanding-Europe--Why-It-Matters-and-What-It-Can-Offer-You/\n",
      "http://mooc.guokr.com/course/866/Understanding-Europe--Why-It-Matters-and-What-It-Can-Offer-You/\n"
     ]
    },
    {
     "data": {
      "text/plain": [
       "[u'http://mooc.guokr.com/course/2049/Introduction-to-Classical-Music/',\n",
       " u'http://mooc.guokr.com/course/5023/\\u751f\\u6d3b\\u82f1\\u8bed\\u542c\\u8bf4/',\n",
       " u'http://mooc.guokr.com/course/895/\\u6587\\u7269\\u7cbe\\u54c1\\u4e0e\\u6587\\u5316\\u4e2d\\u56fd/',\n",
       " u'http://mooc.guokr.com/course/360/Introduction-to-Computer-Science/',\n",
       " u'http://mooc.guokr.com/course/267/From-the-Big-Bang-to-Dark-Energy/',\n",
       " u'http://mooc.guokr.com/course/972/The-Analytics-Edge/',\n",
       " u'http://mooc.guokr.com/course/636/\\u7edf\\u8ba1\\u7b80\\u5355\\u5b66/',\n",
       " u'http://mooc.guokr.com/course/866/Understanding-Europe--Why-It-Matters-and-What-It-Can-Offer-You/']"
      ]
     },
     "execution_count": 112,
     "metadata": {},
     "output_type": "execute_result"
    }
   ],
   "source": [
    "#parse the webs for each course\n",
    "web_data = soup.find_all('a',{'class':'course-img'})\n",
    "web_list = []\n",
    "for x in web_data:\n",
    "    print x['href']     #use the label in the tag to get the value\n",
    "    print x.get('href')# use the get methon\n",
    "    web_list.append(x['href'])\n",
    "len(web_list)\n",
    "\n",
    "web_list"
   ]
  },
  {
   "cell_type": "code",
   "execution_count": 111,
   "metadata": {},
   "outputs": [
    {
     "data": {
      "text/plain": [
       "{u'From the Big Bang to Dark Energy': u'http://mooc.guokr.com/course/267/From-the-Big-Bang-to-Dark-Energy/',\n",
       " u'Introduction to Classical Music': u'http://mooc.guokr.com/course/2049/Introduction-to-Classical-Music/',\n",
       " u'Introduction to Computer Science': u'http://mooc.guokr.com/course/360/Introduction-to-Computer-Science/',\n",
       " u'The Analytics Edge': u'http://mooc.guokr.com/course/972/The-Analytics-Edge/',\n",
       " u'Understanding Europe: Why It Matters and What It Can Offer You': u'http://mooc.guokr.com/course/866/Understanding-Europe--Why-It-Matters-and-What-It-Can-Offer-You/',\n",
       " u'\\u6587\\u7269\\u7cbe\\u54c1\\u4e0e\\u6587\\u5316\\u4e2d\\u56fd': u'http://mooc.guokr.com/course/895/\\u6587\\u7269\\u7cbe\\u54c1\\u4e0e\\u6587\\u5316\\u4e2d\\u56fd/',\n",
       " u'\\u751f\\u6d3b\\u82f1\\u8bed\\u542c\\u8bf4': u'http://mooc.guokr.com/course/5023/\\u751f\\u6d3b\\u82f1\\u8bed\\u542c\\u8bf4/',\n",
       " u'\\u7edf\\u8ba1\\u7b80\\u5355\\u5b66': u'http://mooc.guokr.com/course/636/\\u7edf\\u8ba1\\u7b80\\u5355\\u5b66/'}"
      ]
     },
     "execution_count": 111,
     "metadata": {},
     "output_type": "execute_result"
    }
   ],
   "source": [
    "#construct a dictionary for course\n",
    "course_dict =dict(zip(course_list,web_list))\n",
    "course_dict\n"
   ]
  }
 ],
 "metadata": {
  "kernelspec": {
   "display_name": "Python 2",
   "language": "python",
   "name": "python2"
  },
  "language_info": {
   "codemirror_mode": {
    "name": "ipython",
    "version": 2
   },
   "file_extension": ".py",
   "mimetype": "text/x-python",
   "name": "python",
   "nbconvert_exporter": "python",
   "pygments_lexer": "ipython2",
   "version": "2.7.13"
  }
 },
 "nbformat": 4,
 "nbformat_minor": 2
}
