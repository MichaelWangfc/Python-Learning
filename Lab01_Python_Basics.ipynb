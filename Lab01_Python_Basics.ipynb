{
 "cells": [
  {
   "cell_type": "markdown",
   "metadata": {},
   "source": [
    "# The data types in Python\n"
   ]
  },
  {
   "cell_type": "markdown",
   "metadata": {},
   "source": [
    "## show the types\n",
    "#### Tasks： Show the type for each of the following expressions\n",
    "- 3.14   \n",
    "- True  \n",
    "- 'Michael'  \n",
    "- [1,2,3]  \n",
    "- (1,2,3)  \n",
    "- {'a':1}  \n",
    "- {1,2,2,3}  \n",
    "- None  \n",
    "Tips: use the python Bulit-in function type"
   ]
  },
  {
   "cell_type": "code",
   "execution_count": null,
   "metadata": {},
   "outputs": [],
   "source": [
    "#input your code:\n"
   ]
  },
  {
   "cell_type": "markdown",
   "metadata": {},
   "source": [
    "## Number operations:\n",
    "Task:Using Python as a Calculator to caculate the following expressions:  \n",
    "\n",
    "- 10+20\n",
    "- 10-5\n",
    "- 10*5\n",
    "- 10/5\n",
    "- 10%3\n",
    "- 5**3\n",
    "\n"
   ]
  },
  {
   "cell_type": "markdown",
   "metadata": {},
   "source": [
    "### Boolen\n",
    "#### Tasks： calculte the boolen value as following expressings:  \n",
    "    3 > 4  \n",
    "    4.0 > 3.999  \n",
    "    2 + 2 == 4  \n",
    "    True or False  \n",
    "    False or False  \n",
    "    not False  \n",
    "    3.0 - 1.0 != 5.0 - 3.0  \n",
    "    3 > 4 or (2 < 3 and 9 > 10)  \n",
    "    not(4 > 3 and 100 > 6)  "
   ]
  },
  {
   "cell_type": "code",
   "execution_count": null,
   "metadata": {},
   "outputs": [],
   "source": []
  },
  {
   "cell_type": "markdown",
   "metadata": {},
   "source": [
    "## Strings\n",
    "Besides numbers, Python can also manipulate strings, which can be expressed in several ways. They can be enclosed in single quotes ('...') or double quotes (\"...\") with the same result.   \n",
    "code your expressions to out as following:\n",
    "- 'abc'\n",
    "- \" I'm Mike \"\n",
    "- 'My name is \"Mike\" '\n",
    "- I'm   \n",
    "  Mike\n",
    "- I'm \\nMike\n",
    "\n",
    "Tipes:\n",
    "1. \\ can be used to escape quotes\n",
    "2. \\n means newline\n",
    "3. The print() function produces a more readable output, by omitting the enclosing quotes and by printing escaped and special characters:\\\n",
    "4. if you don’t want characters prefaced by \\ to be interpreted as special characters, you can use raw strings by adding an r before the first quote:"
   ]
  },
  {
   "cell_type": "code",
   "execution_count": null,
   "metadata": {},
   "outputs": [],
   "source": []
  },
  {
   "cell_type": "markdown",
   "metadata": {},
   "source": [
    "## Strings oprations\n",
    "\n",
    "\n",
    "Task:\n",
    "- repeat 'Pyhton' by 3 times\n",
    "- find the 5th character of the string 'Python'\n",
    "- slice the 2nd(included) to 5th position(excluded) characters of of the string 'Python'\n",
    "- calculte the length of the string 'Python'\n",
    "\n",
    "Tips:\n",
    "- Strings can be concatenated (glued together) with the + operator, and repeated with *:\n",
    "- Strings can be indexed (subscripted), with the first character having index 0. There is no separate character type; a character is simply a string of size one:\n",
    "- The built-in function len() returns the length of a string:"
   ]
  },
  {
   "cell_type": "code",
   "execution_count": 4,
   "metadata": {},
   "outputs": [
    {
     "data": {
      "text/plain": [
       "'o'"
      ]
     },
     "execution_count": 4,
     "metadata": {},
     "output_type": "execute_result"
    }
   ],
   "source": [
    "'Python'*3\n",
    "\n",
    "'Python'[4]"
   ]
  },
  {
   "cell_type": "markdown",
   "metadata": {},
   "source": [
    "## Lists\n",
    "#### Tasks：\n",
    "- 1.build a list of ['Mike','Julia','Esther'] and bind it with a variable of names\n",
    "- 2.find the item of this list in 0 position (index)\n",
    "- 3.slice the list from 0 position(including) to 2nd position(excluding)\n",
    "- 4.calculate the length of the list\n",
    "- 5.add a new item of 'Jordan' at the end of list\n",
    "- 6.insert a new item of 'Jim' at the 1st postion of this list\n",
    "- 7.remove the last item of list\n",
    "- 8.remove the item in the 1st position\n",
    "- 9.change the item in the 2nd position with new item 'Marissa'\n",
    "- 10.bulid a enmpty list\n"
   ]
  },
  {
   "cell_type": "code",
   "execution_count": null,
   "metadata": {},
   "outputs": [],
   "source": []
  },
  {
   "cell_type": "markdown",
   "metadata": {},
   "source": [
    "## Turple\n",
    "#### Tasks：\n",
    "    1.build a list of ('Mike','Julia','Esther') and bind it with a variable of names\n",
    "    2.find the item of this turple in 0 position (index)\n",
    "    3.slice the turple from 0 position(including) to 2nd position(excluding)\n",
    "    4.calculate the length of the turple\n",
    "    5.bulid a tuple with only 1 element of 'Mike'\n"
   ]
  },
  {
   "cell_type": "code",
   "execution_count": null,
   "metadata": {},
   "outputs": [],
   "source": []
  },
  {
   "cell_type": "markdown",
   "metadata": {},
   "source": [
    "## Dictionary\n",
    "#### Tasks：\n",
    "    1.bulid a dictionay with 3 key-value pairs of 'Michale':85,'Julia':76,'Asther':95\n",
    "    2.find the value corresponding to 'Michael'\n",
    "    3.add a new key-value pair of 'Jim':100\n",
    "    4. update the key of 'Jim' with a new score of 99\n",
    "    5.remove the key-value pair of 'Asther':95\n",
    "    \n",
    "    "
   ]
  },
  {
   "cell_type": "code",
   "execution_count": 8,
   "metadata": {},
   "outputs": [
    {
     "data": {
      "text/plain": [
       "{'Julia': 76, 'Michale': 85}"
      ]
     },
     "execution_count": 8,
     "metadata": {},
     "output_type": "execute_result"
    }
   ],
   "source": [
    "d = {'Michale':85,'Julia':76,'Asther':95}\n",
    "d.pop('Asther')\n",
    "d"
   ]
  },
  {
   "cell_type": "markdown",
   "metadata": {},
   "source": [
    "## Set\n",
    "#### Tasks：\n",
    "    1.bulid a set with 3 items:1,2,3,named it as s\n",
    "    2.convert a list of [1,2,3,4] to a set\n",
    "    3.add a new item of 4 into the s\n",
    "    4.remove a item of 2 from the set s\n",
    "    5."
   ]
  },
  {
   "cell_type": "code",
   "execution_count": null,
   "metadata": {},
   "outputs": [],
   "source": []
  },
  {
   "cell_type": "markdown",
   "metadata": {},
   "source": [
    "## Simple if Statements\n",
    "Tasks:  \n",
    "Try inputs an age, if age > 18:print(\"You are an adult\"),if 18>=age>10,print(\"You are a teenage\"),if age<=10, print('You are a child')"
   ]
  },
  {
   "cell_type": "code",
   "execution_count": 10,
   "metadata": {},
   "outputs": [
    {
     "name": "stdout",
     "output_type": "stream",
     "text": [
      "How old are you? 10\n",
      "You are a child\n"
     ]
    }
   ],
   "source": [
    "age = float(input(\"How old are you? \"))\n",
    "if age > 18:\n",
    "    print(\"You are an adult\")\n",
    "elif age>10:\n",
    "    print(\"You are a teenage\")\n",
    "else:\n",
    "    print('You are a child')"
   ]
  },
  {
   "cell_type": "markdown",
   "metadata": {},
   "source": [
    "## Iteration using for Statements \n",
    "#### Tasks\n",
    "    1. print all the items in a list of  ['Mike','Julia','Esther'] \n",
    "    2. sum up from 1 to 100 with for loop\n",
    "    "
   ]
  },
  {
   "cell_type": "markdown",
   "metadata": {},
   "source": [
    "## Iteration using while statement\n",
    "#### Tasks\n",
    "    1. sum up from 1 to 100 with for loop"
   ]
  },
  {
   "cell_type": "code",
   "execution_count": null,
   "metadata": {},
   "outputs": [],
   "source": []
  },
  {
   "cell_type": "markdown",
   "metadata": {},
   "source": [
    "## Functions\n",
    "#### Tasks\n",
    "    1. find the absolute value of -10\n",
    "    2. change the string type '123' to int type\n",
    "    3. define a function to calculte any summation from 1,2,3 .... to n(as a parameter)\n",
    "    "
   ]
  },
  {
   "cell_type": "code",
   "execution_count": null,
   "metadata": {},
   "outputs": [],
   "source": []
  },
  {
   "cell_type": "markdown",
   "metadata": {},
   "source": [
    "# Problem sets  \n",
    "## Problem 1\n",
    "Assume s is a string of lower case characters.\n",
    "Write a program that counts up the number of vowels contained in the string s. Valid vowels are: 'a', 'e', 'i', 'o', and 'u'. For example, if s = 'azcbobobegghakl', your program should print:"
   ]
  },
  {
   "cell_type": "code",
   "execution_count": null,
   "metadata": {},
   "outputs": [],
   "source": []
  },
  {
   "cell_type": "markdown",
   "metadata": {},
   "source": [
    "## Module\n",
    "#### Tasks\n",
    "1. import a bulit-in module named math, then find the pi\n",
    "2. calculate the $sin(\\frac{1}{2}\\pi)$\n"
   ]
  },
  {
   "cell_type": "code",
   "execution_count": null,
   "metadata": {},
   "outputs": [],
   "source": []
  },
  {
   "cell_type": "markdown",
   "metadata": {},
   "source": [
    "# Class\n",
    "Tasks:  \n",
    "1. define a class named Animal,initialized with two attributes:name and age, one method of sound,which will print \"Animal can sound ...\"\n",
    "2. creat a instance from the class and get the attributes and call the method of sound\n"
   ]
  },
  {
   "cell_type": "code",
   "execution_count": null,
   "metadata": {},
   "outputs": [],
   "source": []
  }
 ],
 "metadata": {
  "kernelspec": {
   "display_name": "Python 3",
   "language": "python",
   "name": "python3"
  },
  "language_info": {
   "codemirror_mode": {
    "name": "ipython",
    "version": 3
   },
   "file_extension": ".py",
   "mimetype": "text/x-python",
   "name": "python",
   "nbconvert_exporter": "python",
   "pygments_lexer": "ipython3",
   "version": "3.6.4"
  }
 },
 "nbformat": 4,
 "nbformat_minor": 2
}
